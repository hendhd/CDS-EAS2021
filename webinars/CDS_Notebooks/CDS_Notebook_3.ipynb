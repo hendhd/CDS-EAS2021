{
 "cells": [
  {
   "cell_type": "markdown",
   "metadata": {
    "slideshow": {
     "slide_type": "slide"
    }
   },
   "source": [
    "# CDS services in Jupyter notebooks\n",
    "<span style='color:blue'> Welcome to a Jupyter notebook demonstrating how to access some CDS services with Python. Here you will learn how to: </span>\n",
    "\n",
    "- find datasets on the **CDS MOC Server**\n",
    "- use MOCs \n",
    "- visulalize and interact with them in the **Aladin Lite** widget \n",
    "\n",
    "Find more tutorials @ https://github.com/cds-astro"
   ]
  },
  {
   "cell_type": "markdown",
   "metadata": {
    "slideshow": {
     "slide_type": "slide"
    }
   },
   "source": [
    "## MOCs : Multi-Order Coverage maps\n",
    "\n",
    "- IVOA\tstandard to\tdescribe arbitrary sky regions\n",
    "- based on HEALPix sky tessellation\t\n",
    "\n",
    "    - footprints of surveys\n",
    "    - arbitrary polygons from a list of sky coordinates\n",
    "    - sky coverage of catalogues\n",
    "\n",
    "- Space and Time coverages\n",
    "\n",
    "\n",
    "Check the MOCPy's documentation @ https://cds-astro.github.io/mocpy/ "
   ]
  },
  {
   "cell_type": "code",
   "execution_count": 93,
   "metadata": {
    "slideshow": {
     "slide_type": "slide"
    }
   },
   "outputs": [],
   "source": [
    "from astroquery.cds import cds\n",
    "import mocpy "
   ]
  },
  {
   "cell_type": "code",
   "execution_count": 92,
   "metadata": {
    "scrolled": true,
    "slideshow": {
     "slide_type": "slide"
    }
   },
   "outputs": [
    {
     "name": "stdout",
     "output_type": "stream",
     "text": [
      "            ID           \n",
      "-------------------------\n",
      "CDS/J/ApJ/749/10/SDSS-obs\n",
      "          CDS/P/HLA/SDSSg\n",
      "          CDS/P/HLA/SDSSr\n",
      "          CDS/P/HLA/SDSSz\n",
      "          CDS/P/HST/SDSSg\n",
      "          CDS/P/HST/SDSSr\n",
      "          CDS/P/HST/SDSSz\n",
      "        CDS/P/SDSS9/color\n",
      "    CDS/P/SDSS9/color-alt\n",
      "            CDS/P/SDSS9/g\n",
      "            CDS/P/SDSS9/i\n",
      "            CDS/P/SDSS9/r\n",
      "            CDS/P/SDSS9/u\n",
      "            CDS/P/SDSS9/z\n",
      "          ID          \n",
      "----------------------\n",
      "  ESAVO/P/XMM/EPIC-RGB\n",
      "ESAVO/P/XMM/OM-Optical\n",
      "     ESAVO/P/XMM/OM-UV\n",
      " xcatdb/P/XMM/PN/color\n",
      "   xcatdb/P/XMM/PN/eb2\n",
      "   xcatdb/P/XMM/PN/eb3\n",
      "   xcatdb/P/XMM/PN/eb4\n"
     ]
    }
   ],
   "source": [
    "info_1 = cds.find_datasets(meta_data=\"ID=*SDSS*\")\n",
    "print(info_1['ID']) \n",
    "\n",
    "\n",
    "info_2 = cds.find_datasets(meta_data=\"ID=*XMM*\")\n",
    "print(info_2['ID']) "
   ]
  },
  {
   "cell_type": "code",
   "execution_count": 38,
   "metadata": {
    "slideshow": {
     "slide_type": "slide"
    }
   },
   "outputs": [],
   "source": [
    "moc_sdss = cds.find_datasets(meta_data=\"ID=CDS/P/SDSS9/color*\", return_moc=True)\n",
    "moc_xmm = cds.find_datasets(meta_data=\"ID=ESAVO/P/XMM/EPIC-RGB\", return_moc=True)"
   ]
  },
  {
   "cell_type": "code",
   "execution_count": 37,
   "metadata": {
    "slideshow": {
     "slide_type": "skip"
    }
   },
   "outputs": [
    {
     "data": {
      "text/html": [
       "<i>Table length=1</i>\n",
       "<table id=\"table140456101405504\" class=\"table-striped table-bordered table-condensed\">\n",
       "<thead><tr><th>MAIN_ID</th><th>RA</th><th>DEC</th><th>RA_PREC</th><th>DEC_PREC</th><th>COO_ERR_MAJA</th><th>COO_ERR_MINA</th><th>COO_ERR_ANGLE</th><th>COO_QUAL</th><th>COO_WAVELENGTH</th><th>COO_BIBCODE</th></tr></thead>\n",
       "<thead><tr><th></th><th>&quot;h:m:s&quot;</th><th>&quot;d:m:s&quot;</th><th></th><th></th><th>mas</th><th>mas</th><th>deg</th><th></th><th></th><th></th></tr></thead>\n",
       "<thead><tr><th>object</th><th>str13</th><th>str13</th><th>int16</th><th>int16</th><th>float32</th><th>float32</th><th>int16</th><th>str1</th><th>str1</th><th>object</th></tr></thead>\n",
       "<tr><td>M  87</td><td>12 30 49.4233</td><td>+12 23 28.043</td><td>12</td><td>12</td><td>0.041</td><td>0.043</td><td>90</td><td>A</td><td>R</td><td>2015AJ....150...58F</td></tr>\n",
       "</table>"
      ],
      "text/plain": [
       "<Table length=1>\n",
       "MAIN_ID       RA           DEC      ... COO_WAVELENGTH     COO_BIBCODE    \n",
       "           \"h:m:s\"       \"d:m:s\"    ...                                   \n",
       " object     str13         str13     ...      str1             object      \n",
       "------- ------------- ------------- ... -------------- -------------------\n",
       "  M  87 12 30 49.4233 +12 23 28.043 ...              R 2015AJ....150...58F"
      ]
     },
     "execution_count": 37,
     "metadata": {},
     "output_type": "execute_result"
    }
   ],
   "source": [
    "from astroquery.simbad import Simbad\n",
    "\n",
    "m87 = Simbad.query_object('M87')\n",
    "m87"
   ]
  },
  {
   "cell_type": "markdown",
   "metadata": {
    "slideshow": {
     "slide_type": "slide"
    }
   },
   "source": [
    "Q: Is a given source observed by a specific survey? "
   ]
  },
  {
   "cell_type": "code",
   "execution_count": 50,
   "metadata": {
    "slideshow": {
     "slide_type": "fragment"
    }
   },
   "outputs": [
    {
     "data": {
      "text/plain": [
       "array([ True])"
      ]
     },
     "execution_count": 50,
     "metadata": {},
     "output_type": "execute_result"
    }
   ],
   "source": [
    "from astropy.coordinates import SkyCoord\n",
    "from astropy.coordinates import Angle\n",
    "\n",
    "ra, dec = Angle('12h30m49.4233s'), Angle('12d23m28.043s')\n",
    "\n",
    "moc_xmm.contains(ra, dec)"
   ]
  },
  {
   "cell_type": "markdown",
   "metadata": {
    "slideshow": {
     "slide_type": "slide"
    }
   },
   "source": [
    "Q: What fraction of the sky is covered by both SDSS and XMM ?"
   ]
  },
  {
   "cell_type": "code",
   "execution_count": 39,
   "metadata": {
    "slideshow": {
     "slide_type": "fragment"
    }
   },
   "outputs": [
    {
     "name": "stdout",
     "output_type": "stream",
     "text": [
      "The intersection of SDSS and XMM covers 3.9 % of the sky\n"
     ]
    }
   ],
   "source": [
    "moc_intersection = moc_sdss.intersection(moc_xmm)\n",
    "\n",
    "sky_frac = moc_intersection.sky_fraction\n",
    "print('The intersection of SDSS and XMM covers {:.1f} % of the sky'.format(sky_frac * 100.))"
   ]
  },
  {
   "cell_type": "code",
   "execution_count": 57,
   "metadata": {
    "slideshow": {
     "slide_type": "slide"
    }
   },
   "outputs": [
    {
     "data": {
      "application/vnd.jupyter.widget-view+json": {
       "model_id": "d6ee11c2b8954e81abd062dd28d08303",
       "version_major": 2,
       "version_minor": 0
      },
      "text/plain": [
       "Aladin(options=['allow_full_zoomout', 'coo_frame', 'fov', 'full_screen', 'log', 'overlay_survey', 'overlay_sur…"
      ]
     },
     "metadata": {},
     "output_type": "display_data"
    }
   ],
   "source": [
    "import ipyaladin.aladin_widget as ipyal\n",
    "\n",
    "aladin = ipyal.Aladin(target='M87', survey='P/SDSS9/color')\n",
    "aladin"
   ]
  },
  {
   "cell_type": "code",
   "execution_count": 58,
   "metadata": {
    "slideshow": {
     "slide_type": "fragment"
    }
   },
   "outputs": [],
   "source": [
    "aladin.add_moc_from_dict(moc_sdss.serialize(format='json'), {'color': 'yellow', 'opacity': 0.3, 'name': 'SDSS'})\n",
    "aladin.add_moc_from_dict(moc_xmm.serialize(format='json'), {'color': 'blue', 'opacity': 0.5, 'name': 'XMM'})\n",
    "aladin.add_moc_from_dict(moc_intersection.serialize(format='json'), {'color': 'magenta', 'opacity': 0.5, 'name': 'intersection'})"
   ]
  },
  {
   "cell_type": "markdown",
   "metadata": {
    "slideshow": {
     "slide_type": "slide"
    }
   },
   "source": [
    "Q: I have a catalogue of sources, how I can select those observed in SDSS and with XMM?"
   ]
  },
  {
   "cell_type": "code",
   "execution_count": 48,
   "metadata": {
    "slideshow": {
     "slide_type": "slide"
    }
   },
   "outputs": [
    {
     "data": {
      "text/html": [
       "<i>Table length=592</i>\n",
       "<table id=\"table140449056324912\" class=\"table-striped table-bordered table-condensed\">\n",
       "<thead><tr><th>recno</th><th>Arp</th><th>Name</th><th>VT</th><th>u_VT</th><th>dim1</th><th>dim2</th><th>u_dim2</th><th>MType</th><th>Uchart</th><th>RAJ2000</th><th>DEJ2000</th></tr></thead>\n",
       "<thead><tr><th></th><th></th><th></th><th>mag</th><th></th><th>arcmin</th><th>arcmin</th><th></th><th></th><th></th><th>deg</th><th>deg</th></tr></thead>\n",
       "<thead><tr><th>int32</th><th>int16</th><th>object</th><th>float64</th><th>str1</th><th>float64</th><th>float64</th><th>str1</th><th>object</th><th>int16</th><th>float64</th><th>float64</th></tr></thead>\n",
       "<tr><td>112</td><td>333</td><td>NGC 1024</td><td>12.1</td><td></td><td>3.9</td><td>1.4</td><td></td><td>(R&apos;)SA(r)ab</td><td>175</td><td>39.80083333333333</td><td>10.847222222222221</td></tr>\n",
       "<tr><td>120</td><td>200</td><td>NGC 1134</td><td>12.1</td><td></td><td>2.5</td><td>0.9</td><td></td><td>S?</td><td>175</td><td>43.42124999999999</td><td>13.015277777777776</td></tr>\n",
       "<tr><td>119</td><td>190</td><td>UGC 02320</td><td>15.2</td><td></td><td>0.5</td><td>0.3</td><td></td><td>Multiple Sys</td><td>--</td><td>42.58291666666666</td><td>12.889444444444443</td></tr>\n",
       "<tr><td>89</td><td>290</td><td>IC 0195</td><td>14.3</td><td></td><td>1.6</td><td>0.8</td><td></td><td>S0</td><td>--</td><td>30.935833333333328</td><td>14.708611111111109</td></tr>\n",
       "<tr><td>90</td><td>290</td><td>IC 0196</td><td>14.2</td><td></td><td>2.8</td><td>1.4</td><td></td><td>S0-</td><td>--</td><td>30.95833333333333</td><td>14.73972222222222</td></tr>\n",
       "<tr><td>111</td><td>258</td><td>UGC 02140A</td><td>15.5</td><td></td><td>0.9</td><td>0.2</td><td></td><td>SB.0*/</td><td>--</td><td>39.78874999999999</td><td>18.367499999999996</td></tr>\n",
       "<tr><td>110</td><td>258</td><td>UGC 02140</td><td>15.4</td><td></td><td>1.7</td><td>0.7</td><td></td><td>IBS9P</td><td>--</td><td>39.77583333333333</td><td>18.382777777777775</td></tr>\n",
       "<tr><td>109</td><td>258</td><td>Hickson 18C</td><td>16.1</td><td></td><td>--</td><td>--</td><td></td><td>S?</td><td>--</td><td>39.774583333333325</td><td>18.388333333333332</td></tr>\n",
       "<tr><td>108</td><td>258</td><td>Hickson 18D</td><td>14.6</td><td></td><td>--</td><td>--</td><td></td><td>S?</td><td>--</td><td>39.76916666666666</td><td>18.393888888888885</td></tr>\n",
       "<tr><td>...</td><td>...</td><td>...</td><td>...</td><td>...</td><td>...</td><td>...</td><td>...</td><td>...</td><td>...</td><td>...</td><td>...</td></tr>\n",
       "<tr><td>465</td><td>261</td><td>ARP 261</td><td>14.5</td><td></td><td>--</td><td>--</td><td></td><td>IB(s)m pec</td><td>--</td><td>222.3870833333333</td><td>-10.164166666666665</td></tr>\n",
       "<tr><td>464</td><td>261</td><td>ARP 261</td><td>--</td><td></td><td>--</td><td>--</td><td></td><td></td><td>--</td><td>222.38624999999996</td><td>-10.163055555555554</td></tr>\n",
       "<tr><td>463</td><td>261</td><td>ARP 261</td><td>--</td><td></td><td>--</td><td>--</td><td></td><td></td><td>--</td><td>222.38624999999996</td><td>-10.156666666666665</td></tr>\n",
       "<tr><td>549</td><td>14</td><td>NGC 7314</td><td>10.9</td><td></td><td>4.6</td><td>2.1</td><td></td><td>SAB(rs)c: II</td><td>347</td><td>338.94041666666664</td><td>-26.05083333333333</td></tr>\n",
       "<tr><td>547</td><td>93</td><td>NGC 7284</td><td>11.9</td><td></td><td>2.1</td><td>1.5</td><td></td><td>SB(s)0^0 pec</td><td>347</td><td>337.15</td><td>-24.844166666666663</td></tr>\n",
       "<tr><td>548</td><td>93</td><td>NGC 7285</td><td>11.9</td><td></td><td>2.4</td><td>1.4</td><td></td><td>SB(rs)a pec</td><td>347</td><td>337.1583333333333</td><td>-24.84083333333333</td></tr>\n",
       "<tr><td>546</td><td>226</td><td>NGC 7252</td><td>11.4</td><td></td><td>2.0</td><td>1.6</td><td></td><td>SAB0^0? pec</td><td>347</td><td>335.1866666666666</td><td>-24.678611111111106</td></tr>\n",
       "<tr><td>541</td><td>325</td><td>ESO 601- G 018</td><td>16.1</td><td></td><td>--</td><td>--</td><td></td><td></td><td>--</td><td>331.6008333333333</td><td>-21.079166666666662</td></tr>\n",
       "<tr><td>540</td><td>325</td><td>ESO 601- G 018</td><td>17.9</td><td></td><td>--</td><td>--</td><td></td><td></td><td>--</td><td>331.59666666666664</td><td>-21.077499999999997</td></tr>\n",
       "<tr><td>539</td><td>325</td><td>ESO 601- G 018</td><td>18.1</td><td></td><td>1.7</td><td>0.7</td><td></td><td></td><td>--</td><td>331.5925</td><td>-21.072499999999998</td></tr>\n",
       "</table>"
      ],
      "text/plain": [
       "<Table length=592>\n",
       "recno  Arp       Name      ... Uchart      RAJ2000             DEJ2000      \n",
       "                           ...               deg                 deg        \n",
       "int32 int16     object     ... int16       float64             float64      \n",
       "----- ----- -------------- ... ------ ------------------ -------------------\n",
       "  112   333       NGC 1024 ...    175  39.80083333333333  10.847222222222221\n",
       "  120   200       NGC 1134 ...    175  43.42124999999999  13.015277777777776\n",
       "  119   190      UGC 02320 ...     --  42.58291666666666  12.889444444444443\n",
       "   89   290        IC 0195 ...     -- 30.935833333333328  14.708611111111109\n",
       "   90   290        IC 0196 ...     --  30.95833333333333   14.73972222222222\n",
       "  111   258     UGC 02140A ...     --  39.78874999999999  18.367499999999996\n",
       "  110   258      UGC 02140 ...     --  39.77583333333333  18.382777777777775\n",
       "  109   258    Hickson 18C ...     -- 39.774583333333325  18.388333333333332\n",
       "  108   258    Hickson 18D ...     --  39.76916666666666  18.393888888888885\n",
       "  ...   ...            ... ...    ...                ...                 ...\n",
       "  465   261        ARP 261 ...     --  222.3870833333333 -10.164166666666665\n",
       "  464   261        ARP 261 ...     -- 222.38624999999996 -10.163055555555554\n",
       "  463   261        ARP 261 ...     -- 222.38624999999996 -10.156666666666665\n",
       "  549    14       NGC 7314 ...    347 338.94041666666664  -26.05083333333333\n",
       "  547    93       NGC 7284 ...    347             337.15 -24.844166666666663\n",
       "  548    93       NGC 7285 ...    347  337.1583333333333  -24.84083333333333\n",
       "  546   226       NGC 7252 ...    347  335.1866666666666 -24.678611111111106\n",
       "  541   325 ESO 601- G 018 ...     --  331.6008333333333 -21.079166666666662\n",
       "  540   325 ESO 601- G 018 ...     -- 331.59666666666664 -21.077499999999997\n",
       "  539   325 ESO 601- G 018 ...     --           331.5925 -21.072499999999998"
      ]
     },
     "execution_count": 48,
     "metadata": {},
     "output_type": "execute_result"
    }
   ],
   "source": [
    "import pyvo \n",
    "\n",
    "tap_vizier = pyvo.dal.TAPService('http://tapvizier.u-strasbg.fr/TAPVizieR/tap')\n",
    "\n",
    "query = \"\"\"SELECT  *  FROM \"VII/192/arplist\" \"\"\"\n",
    "\n",
    "table_arplist = tap_vizier.search(query).to_table()\n",
    "table_arplist"
   ]
  },
  {
   "cell_type": "code",
   "execution_count": 51,
   "metadata": {
    "slideshow": {
     "slide_type": "slide"
    }
   },
   "outputs": [],
   "source": [
    "coords = SkyCoord(ra=table_arplist['RAJ2000'], \n",
    "                  dec=table_arplist['DEJ2000'], \n",
    "                  unit=(u.deg, u.deg))\n",
    "\n",
    "indexes = moc_intersection.contains(coords.ra, \n",
    "                                    coords.dec)"
   ]
  },
  {
   "cell_type": "code",
   "execution_count": 53,
   "metadata": {
    "slideshow": {
     "slide_type": "fragment"
    }
   },
   "outputs": [
    {
     "name": "stdout",
     "output_type": "stream",
     "text": [
      "164 peculiar galaxies are observed both by SDSS and XMM\n"
     ]
    }
   ],
   "source": [
    "print('{} peculiar galaxies are observed both by SDSS and XMM'.format(len(table_arplist[indexes])))"
   ]
  },
  {
   "cell_type": "code",
   "execution_count": 62,
   "metadata": {
    "slideshow": {
     "slide_type": "fragment"
    }
   },
   "outputs": [],
   "source": [
    "aladin.add_table(table_arplist[indexes])"
   ]
  }
 ],
 "metadata": {
  "celltoolbar": "Slideshow",
  "kernelspec": {
   "display_name": "Python 3",
   "language": "python",
   "name": "python3"
  },
  "language_info": {
   "codemirror_mode": {
    "name": "ipython",
    "version": 3
   },
   "file_extension": ".py",
   "mimetype": "text/x-python",
   "name": "python",
   "nbconvert_exporter": "python",
   "pygments_lexer": "ipython3",
   "version": "3.8.10"
  }
 },
 "nbformat": 4,
 "nbformat_minor": 2
}
