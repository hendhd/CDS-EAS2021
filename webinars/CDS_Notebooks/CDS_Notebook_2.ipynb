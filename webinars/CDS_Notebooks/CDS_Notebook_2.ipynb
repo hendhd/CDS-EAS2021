{
 "cells": [
  {
   "cell_type": "markdown",
   "metadata": {
    "slideshow": {
     "slide_type": "slide"
    }
   },
   "source": [
    "# CDS services in Jupyter notebooks\n",
    "<span style='color:blue'> Welcome to a Jupyter notebook demonstrating how to access some CDS services with Python. Here you will learn how to: </span>\n",
    "\n",
    "- use the **Aladin Lite** widget, \n",
    "- find object info on **Simbad**,\n",
    "- find and download a catalogue from **Vizier**, \n",
    "- crossmatch tables with **XMatch**\n",
    "\n",
    "Find more tutorials @ https://github.com/cds-astro\n"
   ]
  },
  {
   "cell_type": "markdown",
   "metadata": {
    "slideshow": {
     "slide_type": "slide"
    }
   },
   "source": [
    "## Aladin Lite & ipyaladin\n",
    "\n",
    "**Aladin Lite** is a lightweight sky atlas running in the browser. It allows to: \n",
    "\n",
    " - visualize sky maps\n",
    "     - 900+ available, [`permanently updated`](https://aladin.u-strasbg.fr/hips/list)\n",
    " - overlay tabular data and footprints  \n",
    " \n",
    " \n",
    " **ipyaladin** is a widget developed at CDS, allowing for easy embedding of Aladin Lite into an IPython notebook."
   ]
  },
  {
   "cell_type": "code",
   "execution_count": 6,
   "metadata": {
    "scrolled": true,
    "slideshow": {
     "slide_type": "slide"
    }
   },
   "outputs": [
    {
     "data": {
      "application/vnd.jupyter.widget-view+json": {
       "model_id": "267e32e034024e7fa412fa36ddc1b3c2",
       "version_major": 2,
       "version_minor": 0
      },
      "text/plain": [
       "Aladin(fov=1.0, options=['allow_full_zoomout', 'coo_frame', 'fov', 'full_screen', 'log', 'overlay_survey', 'ov…"
      ]
     },
     "metadata": {},
     "output_type": "display_data"
    }
   ],
   "source": [
    "import ipyaladin.aladin_widget as ipyal\n",
    "\n",
    "aladin = ipyal.Aladin(target='PSZ1 G057.84+87.98', fov=1, survey='P/SDSS9/color')\n",
    "aladin"
   ]
  },
  {
   "cell_type": "code",
   "execution_count": 5,
   "metadata": {
    "slideshow": {
     "slide_type": "slide"
    }
   },
   "outputs": [
    {
     "data": {
      "text/html": [
       "<i>Table length=44</i>\n",
       "<table id=\"table140411225985856\" class=\"table-striped table-bordered table-condensed\">\n",
       "<thead><tr><th>ID</th></tr></thead>\n",
       "<thead><tr><th>bytes21</th></tr></thead>\n",
       "<tr><td>IGR J12595+2755</td></tr>\n",
       "<tr><td>[KRL2007b] 128</td></tr>\n",
       "<tr><td>1H 1257+281</td></tr>\n",
       "<tr><td>1M 1257+281</td></tr>\n",
       "<tr><td>2A 1257+283</td></tr>\n",
       "<tr><td>2E  2932</td></tr>\n",
       "<tr><td>2U 1257+28</td></tr>\n",
       "<tr><td>3A 1257+282</td></tr>\n",
       "<tr><td>3U 1257+28</td></tr>\n",
       "<tr><td>4U 1257+28</td></tr>\n",
       "<tr><td>...</td></tr>\n",
       "<tr><td>PBC J1259.5+2756</td></tr>\n",
       "<tr><td>SWIFT J1259.7+2755</td></tr>\n",
       "<tr><td>BAX 194.9531+27.9807</td></tr>\n",
       "<tr><td>PLCKESZ G057.33+88.01</td></tr>\n",
       "<tr><td>MCXC J1259.7+2756</td></tr>\n",
       "<tr><td>[SPD2011] 67</td></tr>\n",
       "<tr><td>PSZ1 G057.84+87.98</td></tr>\n",
       "<tr><td>NAME Coma Cluster</td></tr>\n",
       "<tr><td>2MAXI J1259+279</td></tr>\n",
       "<tr><td>PSZ2 G057.80+88.00</td></tr>\n",
       "</table>"
      ],
      "text/plain": [
       "<Table length=44>\n",
       "          ID         \n",
       "       bytes21       \n",
       "---------------------\n",
       "      IGR J12595+2755\n",
       "       [KRL2007b] 128\n",
       "          1H 1257+281\n",
       "          1M 1257+281\n",
       "          2A 1257+283\n",
       "             2E  2932\n",
       "           2U 1257+28\n",
       "          3A 1257+282\n",
       "           3U 1257+28\n",
       "           4U 1257+28\n",
       "                  ...\n",
       "     PBC J1259.5+2756\n",
       "   SWIFT J1259.7+2755\n",
       " BAX 194.9531+27.9807\n",
       "PLCKESZ G057.33+88.01\n",
       "    MCXC J1259.7+2756\n",
       "         [SPD2011] 67\n",
       "   PSZ1 G057.84+87.98\n",
       "    NAME Coma Cluster\n",
       "      2MAXI J1259+279\n",
       "   PSZ2 G057.80+88.00"
      ]
     },
     "execution_count": 5,
     "metadata": {},
     "output_type": "execute_result"
    }
   ],
   "source": [
    "# query object info on Simbad\n",
    "\n",
    "from astroquery.simbad import Simbad\n",
    "\n",
    "query_simbad = Simbad.query_objectids(\"Abell 1656\")\n",
    "query_simbad"
   ]
  },
  {
   "cell_type": "code",
   "execution_count": 9,
   "metadata": {
    "slideshow": {
     "slide_type": "fragment"
    }
   },
   "outputs": [],
   "source": [
    "#find neighbors\n",
    "query_simbad = Simbad.query_region('Abell 1656', radius='10m')\n",
    "query_simbad\n",
    "#display table in Aladin\n",
    "\n",
    "aladin.add_table(query_simbad)"
   ]
  },
  {
   "cell_type": "markdown",
   "metadata": {
    "slideshow": {
     "slide_type": "slide"
    }
   },
   "source": [
    "## VizieR in PyVO\n",
    "\n",
    "[`VizieR`](https://vizier.u-strasbg.fr/viz-bin/VizieR) is an astronomical catalog service provided by CDS:\n",
    "\n",
    "It can be accessed with Python scripts:\n",
    "\n",
    "1. using `PyVO` and the Table Access Protocol (write your qyery in [`ADQL`](https://www.ivoa.net/documents/ADQL/20180112/PR-ADQL-2.1-20180112.html#tth_sEc4.2.11))\n",
    "\n",
    "2. using the `Vizier` subpackage from the `astroquery` package (see a demo in [CDS_Notebook_1](https://github.com/hendhd/CDS-EAS2021/blob/main/webinars/CDS_Notebooks/CDS_Notebook_1.ipynb))\n",
    " "
   ]
  },
  {
   "cell_type": "code",
   "execution_count": 10,
   "metadata": {
    "scrolled": true,
    "slideshow": {
     "slide_type": "slide"
    }
   },
   "outputs": [
    {
     "data": {
      "text/html": [
       "<i>Table length=25</i>\n",
       "<table id=\"table140411214111456\" class=\"table-striped table-bordered table-condensed\">\n",
       "<thead><tr><th>table_name</th><th>description</th></tr></thead>\n",
       "<thead><tr><th>object</th><th>object</th></tr></thead>\n",
       "<tr><td>J/A+A/532/A74/sdss</td><td>SDSS identifiers, redshift and confidence level for the EFIGI catalogue galaxies ( Baillard A., Bertin W., de Lapparent V., Fouque P., Arnouts S., Mellier Y., Pello R., Leborgne J.-F., Prugniel P., Makarov D., Marakova L., McCraken H.J., Bijaoui A., Tasca L.)</td></tr>\n",
       "<tr><td>J/A+A/499/395/sdss1353</td><td>QSO SDSS 1353 photometric parameters for two images ( Paraficz D., Hjorth J., Eliasdottir A.)</td></tr>\n",
       "<tr><td>J/ApJ/780/92/sdss</td><td>*SDSS photometry (table2) ( Szabo R., Ivezic Z., Kiss L.L., Kollath Z., Jones L., Sesar B., Becker A.C., Davenport J.R.A., Cutri R.M.)</td></tr>\n",
       "<tr><td>J/ApJS/177/103/sdss</td><td>Spectroscopic properties of SDSS object ( Ho L.C., Darling J., Greene J.E.)</td></tr>\n",
       "<tr><td>sdssdr13_join</td><td>join sdss13 gaia ( Gaia collaboration)</td></tr>\n",
       "<tr><td>J/A+A/569/A124/guv_sdss</td><td>All GUViCS-SDSS matched point-like sources (J2) ( Voyer E.N., Boselli A., Boissier S., Heinis S., Cortese L., Ferrarese L., Cote P., Cuillandre J.-C., Gwyn S.D.J., Peng E.W., Zhang H., Liu C.)</td></tr>\n",
       "<tr><td>J/PAZh/44/124/sdss-bc</td><td>SDSS binary candidates ( Khovritchev M.Yu., Apetyan A.A., Roshchina E.A., Izmailov I.S., Bikulova D.A., Ershova A.P., Balyaev I.A., Kulikova A.M., Petjur V.V., Shumilov A.A., Oskina K.I., L.A. Maksimova)</td></tr>\n",
       "<tr><td>II/306/sdss8</td><td>* output of the SDSS photometric catalog ( Adelman-McCarthy J.K. et al.)</td></tr>\n",
       "<tr><td>J/ApJ/907/123/sdss_sz</td><td>Revised S/Z catalog with annotations ( Iye M., Yagi M., Fukumoto H.)</td></tr>\n",
       "<tr><td>J/A+A/499/395/sdss1001</td><td>QSO SDSS 1001 photometric parameters for two images ( Paraficz D., Hjorth J., Eliasdottir A.)</td></tr>\n",
       "<tr><td>...</td><td>...</td></tr>\n",
       "<tr><td>J/PAZh/44/124/sasdssbc</td><td>&quot;Saturn&quot; telescope and SDSS binary candidates ( Khovritchev M.Yu., Apetyan A.A., Roshchina E.A., Izmailov I.S., Bikulova D.A., Ershova A.P., Balyaev I.A., Kulikova A.M., Petjur V.V., Shumilov A.A., Oskina K.I., L.A. Maksimova)</td></tr>\n",
       "<tr><td>V/147/sdss12</td><td>* output of the SDSS photometric catalog ( Alam S. et al.)</td></tr>\n",
       "<tr><td>J/A+A/499/395/sdss1335</td><td>QSO SDSS 1335 photometric parameters for two images ( Paraficz D., Hjorth J., Eliasdottir A.)</td></tr>\n",
       "<tr><td>sdssdr13_neighbourhood</td><td>neighbours sdss13 gaia ( Gaia collaboration)</td></tr>\n",
       "<tr><td>J/ApJ/699/800/sdss</td><td>SDSS color-selected quasars parameters   and black hole mass estimates ( Vestergaard M., Osmer P.S.)</td></tr>\n",
       "<tr><td>J/A+A/499/395/sdss0903</td><td>QSO SDSS 0903 photometric parameters for two images ( Paraficz D., Hjorth J., Eliasdottir A.)</td></tr>\n",
       "<tr><td>J/A+A/597/A134/psb_sdss</td><td>E+A galaxies from SDSS DR7 ( Meusinger H., Bruenecke J., Schalldach P., in der Au A.)</td></tr>\n",
       "<tr><td>V/139/sdss9</td><td>* output of the SDSS photometric catalog ( Ahn C.P. et al.)</td></tr>\n",
       "<tr><td>sdssdr13_best_neighbour</td><td>best neighbour sdss13 gaia ( Gaia collaboration)</td></tr>\n",
       "<tr><td>J/MNRAS/482/4570/gaiasdss</td><td>Available SDSS spectra of candidates, corrected version (gaia-sdss_white_dwarf_catalogue.dat) ( Gentile Fusillo N.P., Tremblay P-E, Gaensicke B.T., Manser C.J., Cunningham T., Cukanovaite E., Hollands M., Marsh T., Raddi R., Jordan S., Toonen S., Geier S., Barstow M., Cummings J.D.)</td></tr>\n",
       "</table>"
      ],
      "text/plain": [
       "<Table length=25>\n",
       "        table_name        ...\n",
       "          object          ...\n",
       "------------------------- ...\n",
       "       J/A+A/532/A74/sdss ...\n",
       "   J/A+A/499/395/sdss1353 ...\n",
       "        J/ApJ/780/92/sdss ...\n",
       "      J/ApJS/177/103/sdss ...\n",
       "            sdssdr13_join ...\n",
       "  J/A+A/569/A124/guv_sdss ...\n",
       "    J/PAZh/44/124/sdss-bc ...\n",
       "             II/306/sdss8 ...\n",
       "    J/ApJ/907/123/sdss_sz ...\n",
       "   J/A+A/499/395/sdss1001 ...\n",
       "                      ... ...\n",
       "   J/PAZh/44/124/sasdssbc ...\n",
       "             V/147/sdss12 ...\n",
       "   J/A+A/499/395/sdss1335 ...\n",
       "   sdssdr13_neighbourhood ...\n",
       "       J/ApJ/699/800/sdss ...\n",
       "   J/A+A/499/395/sdss0903 ...\n",
       "  J/A+A/597/A134/psb_sdss ...\n",
       "              V/139/sdss9 ...\n",
       "  sdssdr13_best_neighbour ...\n",
       "J/MNRAS/482/4570/gaiasdss ..."
      ]
     },
     "execution_count": 10,
     "metadata": {},
     "output_type": "execute_result"
    }
   ],
   "source": [
    "import pyvo \n",
    "\n",
    "tap_vizier = pyvo.dal.TAPService('http://tapvizier.u-strasbg.fr/TAPVizieR/tap')\n",
    "\n",
    "query = \"\"\"SELECT  *  FROM tap_schema.tables \n",
    "               WHERE table_name LIKE '%sdss%' \"\"\"\n",
    "\n",
    "list_sdss = tap_vizier.search(query).to_table()\n",
    "\n",
    "list_sdss['table_name', 'description']"
   ]
  },
  {
   "cell_type": "code",
   "execution_count": 11,
   "metadata": {
    "scrolled": true,
    "slideshow": {
     "slide_type": "slide"
    }
   },
   "outputs": [
    {
     "data": {
      "text/html": [
       "<i>Table length=10</i>\n",
       "<table id=\"table140411765641904\" class=\"table-striped table-bordered table-condensed\">\n",
       "<thead><tr><th>RA_ICRS</th><th>DE_ICRS</th><th>mode</th><th>q_mode</th><th>class</th><th>SDSS12</th><th>m_SDSS12</th><th>SDSS-ID</th><th>objID</th><th>Sp-ID</th><th>SpObjID</th><th>parentID</th><th>flags</th><th>Status</th><th>e_RA_ICRS</th><th>e_DE_ICRS</th><th>ObsDate</th><th>Q</th><th>umag</th><th>e_umag</th><th>gmag</th><th>e_gmag</th><th>rmag</th><th>e_rmag</th><th>imag</th><th>e_imag</th><th>zmag</th><th>e_zmag</th><th>zsp</th><th>e_zsp</th><th>f_zsp</th><th>Vdisp</th><th>e_Vdisp</th><th>spInst</th><th>spType</th><th>spCl</th><th>subCl</th><th>spS/N</th><th>uFlags</th><th>us</th><th>uc</th><th>uDate</th><th>u&apos;mag</th><th>e_u&apos;mag</th><th>upmag</th><th>e_upmag</th><th>uPmag</th><th>e_uPmag</th><th>uPrad</th><th>e_uPrad</th><th>uoRA</th><th>uoDE</th><th>udVrad</th><th>udVell</th><th>uPA</th><th>gFlags</th><th>gs</th><th>gc</th><th>gDate</th><th>g&apos;mag</th><th>e_g&apos;mag</th><th>gpmag</th><th>e_gpmag</th><th>gPmag</th><th>e_gPmag</th><th>gPrad</th><th>e_gPrad</th><th>goRA</th><th>goDE</th><th>gdVrad</th><th>gdVell</th><th>gPA</th><th>rFlags</th><th>rs</th><th>rc</th><th>rDate</th><th>r&apos;mag</th><th>e_r&apos;mag</th><th>rpmag</th><th>e_rpmag</th><th>rPmag</th><th>e_rPmag</th><th>rPrad</th><th>e_rPrad</th><th>roRA</th><th>roDE</th><th>rdVrad</th><th>rdVell</th><th>rPA</th><th>iFlags</th><th>is</th><th>ic</th><th>iDate</th><th>i&apos;mag</th><th>e_i&apos;mag</th><th>ipmag</th><th>e_ipmag</th><th>iPmag</th><th>e_iPmag</th><th>iPrad</th><th>e_iPrad</th><th>ioRA</th><th>ioDE</th><th>idVrad</th><th>idVell</th><th>iPA</th><th>zFlags</th><th>zs</th><th>zc</th><th>zDate</th><th>z&apos;mag</th><th>e_z&apos;mag</th><th>zpmag</th><th>e_zpmag</th><th>zPmag</th><th>e_zPmag</th><th>zPrad</th><th>e_zPrad</th><th>zoRA</th><th>zoDE</th><th>zdVrad</th><th>zdVell</th><th>zPA</th><th>pmRA</th><th>e_pmRA</th><th>pmDE</th><th>e_pmDE</th><th>sigRA</th><th>sigDE</th><th>M</th><th>N</th><th>g(O)</th><th>r(E)</th><th>g(J)</th><th>r(F)</th><th>i(N)</th><th>zph</th><th>e_zph</th><th>&lt;zph&gt;</th><th>chi2</th><th>u&apos;Mag</th><th>g&apos;Mag</th><th>r&apos;Mag</th><th>i&apos;Mag</th><th>z&apos;Mag</th></tr></thead>\n",
       "<thead><tr><th>deg</th><th>deg</th><th></th><th></th><th></th><th></th><th></th><th></th><th></th><th></th><th></th><th></th><th></th><th></th><th>arcsec</th><th>arcsec</th><th>yr</th><th></th><th>mag</th><th>mag</th><th>mag</th><th>mag</th><th>mag</th><th>mag</th><th>mag</th><th>mag</th><th>mag</th><th>mag</th><th></th><th></th><th></th><th>km / s</th><th>km / s</th><th></th><th></th><th></th><th></th><th></th><th></th><th></th><th></th><th>yr</th><th>mag</th><th>mag</th><th>mag</th><th>mag</th><th>mag</th><th>mag</th><th>arcsec</th><th>arcsec</th><th>arcsec</th><th>arcsec</th><th>arcsec</th><th>arcsec</th><th>deg</th><th></th><th></th><th></th><th>yr</th><th>mag</th><th>mag</th><th>mag</th><th>mag</th><th>mag</th><th>mag</th><th>arcsec</th><th>arcsec</th><th>arcsec</th><th>arcsec</th><th>arcsec</th><th>arcsec</th><th>deg</th><th></th><th></th><th></th><th>yr</th><th>mag</th><th>mag</th><th>mag</th><th>mag</th><th>mag</th><th>mag</th><th>arcsec</th><th>arcsec</th><th>arcsec</th><th>arcsec</th><th>arcsec</th><th>arcsec</th><th>deg</th><th></th><th></th><th></th><th>yr</th><th>mag</th><th>mag</th><th>mag</th><th>mag</th><th>mag</th><th>mag</th><th>arcsec</th><th>arcsec</th><th>arcsec</th><th>arcsec</th><th>arcsec</th><th>arcsec</th><th>deg</th><th></th><th></th><th></th><th>yr</th><th>mag</th><th>mag</th><th>mag</th><th>mag</th><th>mag</th><th>mag</th><th>arcsec</th><th>arcsec</th><th>arcsec</th><th>arcsec</th><th>arcsec</th><th>arcsec</th><th>deg</th><th>mas / yr</th><th>mas / yr</th><th>mas / yr</th><th>mas / yr</th><th>mas</th><th>mas</th><th></th><th></th><th></th><th></th><th></th><th></th><th></th><th></th><th></th><th></th><th></th><th>mag</th><th>mag</th><th>mag</th><th>mag</th><th>mag</th></tr></thead>\n",
       "<thead><tr><th>float64</th><th>float64</th><th>int16</th><th>str1</th><th>int16</th><th>object</th><th>str1</th><th>object</th><th>int64</th><th>object</th><th>int64</th><th>int64</th><th>int64</th><th>int16</th><th>float32</th><th>float32</th><th>float64</th><th>int16</th><th>float32</th><th>float32</th><th>float32</th><th>float32</th><th>float32</th><th>float32</th><th>float32</th><th>float32</th><th>float32</th><th>float32</th><th>float64</th><th>float64</th><th>int16</th><th>float64</th><th>float32</th><th>object</th><th>object</th><th>object</th><th>object</th><th>float32</th><th>int64</th><th>int16</th><th>int16</th><th>float64</th><th>float32</th><th>float32</th><th>float32</th><th>float32</th><th>float32</th><th>float32</th><th>float32</th><th>float64</th><th>float32</th><th>float32</th><th>float32</th><th>float32</th><th>float32</th><th>int64</th><th>int16</th><th>int16</th><th>float64</th><th>float32</th><th>float32</th><th>float32</th><th>float32</th><th>float32</th><th>float32</th><th>float32</th><th>float64</th><th>float32</th><th>float32</th><th>float32</th><th>float32</th><th>float32</th><th>int64</th><th>int16</th><th>int16</th><th>float64</th><th>float32</th><th>float32</th><th>float32</th><th>float32</th><th>float32</th><th>float32</th><th>float32</th><th>float64</th><th>float32</th><th>float32</th><th>float32</th><th>float32</th><th>float32</th><th>int64</th><th>int16</th><th>int16</th><th>float64</th><th>float32</th><th>float32</th><th>float32</th><th>float32</th><th>float32</th><th>float32</th><th>float32</th><th>float64</th><th>float32</th><th>float32</th><th>float32</th><th>float32</th><th>float32</th><th>int64</th><th>int16</th><th>int16</th><th>float64</th><th>float32</th><th>float32</th><th>float32</th><th>float32</th><th>float32</th><th>float32</th><th>float32</th><th>float64</th><th>float32</th><th>float32</th><th>float32</th><th>float32</th><th>float32</th><th>float32</th><th>float32</th><th>float32</th><th>float32</th><th>float32</th><th>float32</th><th>int16</th><th>int16</th><th>float32</th><th>float32</th><th>float32</th><th>float32</th><th>float32</th><th>float64</th><th>float64</th><th>float32</th><th>float32</th><th>float64</th><th>float64</th><th>float64</th><th>float64</th><th>float64</th></tr></thead>\n",
       "<tr><td>45.001596</td><td>0.003649</td><td>2</td><td></td><td>3</td><td>J030000.38+000013.1</td><td>*</td><td>7264-301-5-0174-0618</td><td>1237676673934951018</td><td></td><td>0</td><td>0</td><td>281543964623104</td><td>1025</td><td>0.187</td><td>0.183</td><td>2008.0006</td><td>3</td><td>25.902</td><td>0.807</td><td>24.61</td><td>0.947</td><td>22.075</td><td>0.182</td><td>21.593</td><td>0.185</td><td>21.468</td><td>0.474</td><td>--</td><td>--</td><td>--</td><td>--</td><td>--</td><td></td><td></td><td></td><td></td><td>--</td><td>9007199397380353</td><td>0</td><td>3</td><td>2008.0006</td><td>25.902</td><td>0.807</td><td>25.762</td><td>0.627</td><td>24.658</td><td>3.777</td><td>2.97</td><td>-1000.0</td><td>0.01</td><td>-0.08</td><td>0.0</td><td>0.132</td><td>33.2</td><td>9007199397380353</td><td>0</td><td>3</td><td>2008.0006</td><td>24.61</td><td>0.947</td><td>24.628</td><td>0.676</td><td>26.262</td><td>1.606</td><td>2.971</td><td>-1000.0</td><td>0.04</td><td>-0.06</td><td>0.856</td><td>0.326</td><td>117.4</td><td>4503874782134528</td><td>0</td><td>3</td><td>2008.0006</td><td>22.075</td><td>0.182</td><td>22.604</td><td>0.19</td><td>21.733</td><td>0.365</td><td>2.97</td><td>-1000.0</td><td>0.0</td><td>0.0</td><td>2.18</td><td>0.268</td><td>98.0</td><td>275280592896</td><td>0</td><td>3</td><td>2008.0006</td><td>21.593</td><td>0.185</td><td>22.089</td><td>0.188</td><td>21.604</td><td>0.5</td><td>2.875</td><td>0.776</td><td>0.31</td><td>-0.12</td><td>2.185</td><td>0.05</td><td>64.1</td><td>9007199388992769</td><td>0</td><td>3</td><td>2008.0006</td><td>21.468</td><td>0.474</td><td>21.705</td><td>0.355</td><td>21.041</td><td>0.96</td><td>11.307</td><td>-1000.0</td><td>0.02</td><td>-0.07</td><td>29.669</td><td>0.05</td><td>18.0</td><td>--</td><td>--</td><td>--</td><td>--</td><td>--</td><td>--</td><td>-1</td><td>-1</td><td>--</td><td>--</td><td>--</td><td>--</td><td>--</td><td>--</td><td>--</td><td>--</td><td>--</td><td>--</td><td>--</td><td>--</td><td>--</td><td>--</td></tr>\n",
       "<tr><td>45.001673</td><td>0.003537</td><td>2</td><td></td><td>3</td><td>J030000.40+000012.7</td><td></td><td>4145-301-4-0411-0515</td><td>1237663277410615811</td><td></td><td>0</td><td>0</td><td>281543964623104</td><td>1025</td><td>0.166</td><td>0.216</td><td>2003.7411</td><td>3</td><td>25.817</td><td>1.021</td><td>23.538</td><td>0.404</td><td>22.285</td><td>0.193</td><td>21.703</td><td>0.178</td><td>22.31</td><td>0.986</td><td>--</td><td>--</td><td>--</td><td>--</td><td>--</td><td></td><td></td><td></td><td></td><td>--</td><td>9007199388958721</td><td>1</td><td>6</td><td>2003.7411</td><td>25.817</td><td>1.021</td><td>24.709</td><td>1.341</td><td>24.811</td><td>2.825</td><td>0.765</td><td>0.354</td><td>0.06</td><td>-0.05</td><td>6.386</td><td>0.98</td><td>43.8</td><td>9007199388992769</td><td>0</td><td>3</td><td>2003.7411</td><td>23.538</td><td>0.404</td><td>23.565</td><td>0.306</td><td>22.982</td><td>0.523</td><td>7.36</td><td>-1000.0</td><td>0.06</td><td>-0.03</td><td>2.325</td><td>0.05</td><td>3.4</td><td>4503874773712896</td><td>0</td><td>3</td><td>2003.7411</td><td>22.285</td><td>0.193</td><td>22.697</td><td>0.192</td><td>23.25</td><td>1.24</td><td>2.037</td><td>0.376</td><td>0.0</td><td>0.0</td><td>1.099</td><td>0.05</td><td>99.5</td><td>275146342400</td><td>0</td><td>3</td><td>2003.7411</td><td>21.703</td><td>0.178</td><td>22.03</td><td>0.173</td><td>23.286</td><td>1.378</td><td>1.453</td><td>0.286</td><td>0.01</td><td>0.39</td><td>0.944</td><td>0.05</td><td>71.4</td><td>18014398643699713</td><td>0</td><td>3</td><td>2003.7411</td><td>22.31</td><td>0.986</td><td>22.378</td><td>0.716</td><td>19.166</td><td>0.158</td><td>0.088</td><td>0.04</td><td>0.06</td><td>-0.04</td><td>29.67</td><td>0.05</td><td>93.8</td><td>--</td><td>--</td><td>--</td><td>--</td><td>--</td><td>--</td><td>-1</td><td>-1</td><td>--</td><td>--</td><td>--</td><td>--</td><td>--</td><td>--</td><td>--</td><td>--</td><td>--</td><td>--</td><td>--</td><td>--</td><td>--</td><td>--</td></tr>\n",
       "<tr><td>45.001502</td><td>0.003537</td><td>2</td><td></td><td>3</td><td>J030000.36+000012.7</td><td></td><td>3460-301-4-0175-0812</td><td>1237660335342551852</td><td></td><td>0</td><td>0</td><td>281709589299456</td><td>1025</td><td>0.423</td><td>0.206</td><td>2002.8509</td><td>3</td><td>25.376</td><td>1.06</td><td>23.875</td><td>0.44</td><td>22.219</td><td>0.197</td><td>21.528</td><td>0.18</td><td>21.67</td><td>0.82</td><td>--</td><td>--</td><td>--</td><td>--</td><td>--</td><td></td><td></td><td></td><td></td><td>--</td><td>9007199397347585</td><td>0</td><td>3</td><td>2002.8509</td><td>25.376</td><td>1.06</td><td>25.389</td><td>0.801</td><td>22.303</td><td>0.773</td><td>2.97</td><td>-1000.0</td><td>-0.52</td><td>-0.12</td><td>29.668</td><td>0.05</td><td>73.3</td><td>9007199397347585</td><td>0</td><td>3</td><td>2002.8509</td><td>23.875</td><td>0.44</td><td>24.28</td><td>0.42</td><td>23.714</td><td>0.967</td><td>2.97</td><td>-1000.0</td><td>-0.52</td><td>-0.1</td><td>4.177</td><td>0.05</td><td>86.1</td><td>4503875042148352</td><td>0</td><td>3</td><td>2002.8509</td><td>22.219</td><td>0.197</td><td>22.713</td><td>0.198</td><td>22.96</td><td>0.994</td><td>1.849</td><td>0.471</td><td>0.0</td><td>0.0</td><td>0.926</td><td>0.05</td><td>37.2</td><td>275414777856</td><td>0</td><td>3</td><td>2002.8509</td><td>21.528</td><td>0.18</td><td>21.99</td><td>0.186</td><td>21.819</td><td>0.56</td><td>2.009</td><td>0.48</td><td>-0.16</td><td>0.3</td><td>1.124</td><td>0.05</td><td>36.3</td><td>9007199388960001</td><td>0</td><td>3</td><td>2002.8509</td><td>21.67</td><td>0.82</td><td>21.977</td><td>0.711</td><td>20.115</td><td>0.712</td><td>4.584</td><td>-1000.0</td><td>-0.53</td><td>-0.11</td><td>29.673</td><td>0.536</td><td>33.5</td><td>--</td><td>--</td><td>--</td><td>--</td><td>--</td><td>--</td><td>-1</td><td>-1</td><td>--</td><td>--</td><td>--</td><td>--</td><td>--</td><td>--</td><td>--</td><td>--</td><td>--</td><td>--</td><td>--</td><td>--</td><td>--</td><td>--</td></tr>\n",
       "<tr><td>45.001517</td><td>0.003671</td><td>2</td><td></td><td>3</td><td>J030000.36+000013.2</td><td></td><td>3355-301-4-0175-0871</td><td>1237659884370985831</td><td></td><td>0</td><td>0</td><td>281544233189632</td><td>1025</td><td>0.478</td><td>0.126</td><td>2002.7582</td><td>3</td><td>23.418</td><td>0.779</td><td>23.402</td><td>0.339</td><td>22.21</td><td>0.201</td><td>22.442</td><td>0.333</td><td>21.105</td><td>0.412</td><td>--</td><td>--</td><td>--</td><td>--</td><td>--</td><td></td><td></td><td></td><td></td><td>--</td><td>9008298909106433</td><td>0</td><td>3</td><td>2002.7582</td><td>23.418</td><td>0.779</td><td>23.855</td><td>0.731</td><td>23.14</td><td>1.357</td><td>2.97</td><td>-1000.0</td><td>-0.44</td><td>0.07</td><td>15.352</td><td>0.05</td><td>96.5</td><td>45035996416311553</td><td>0</td><td>3</td><td>2002.7582</td><td>23.402</td><td>0.339</td><td>23.626</td><td>0.288</td><td>24.093</td><td>1.196</td><td>2.97</td><td>-1000.0</td><td>-0.42</td><td>0.09</td><td>1.369</td><td>0.05</td><td>123.2</td><td>4503875042148352</td><td>0</td><td>3</td><td>2002.7582</td><td>22.21</td><td>0.201</td><td>22.649</td><td>0.204</td><td>22.55</td><td>0.546</td><td>1.936</td><td>0.516</td><td>0.0</td><td>0.0</td><td>1.457</td><td>0.05</td><td>85.6</td><td>9007199254740993</td><td>0</td><td>3</td><td>2002.7582</td><td>22.442</td><td>0.333</td><td>23.068</td><td>0.36</td><td>24.062</td><td>3.029</td><td>1.787</td><td>0.802</td><td>-0.44</td><td>0.08</td><td>5.119</td><td>0.05</td><td>58.7</td><td>9007199388960001</td><td>0</td><td>3</td><td>2002.7582</td><td>21.105</td><td>0.412</td><td>21.547</td><td>0.381</td><td>20.293</td><td>0.545</td><td>4.586</td><td>-1000.0</td><td>-0.44</td><td>0.08</td><td>13.54</td><td>0.21</td><td>29.4</td><td>--</td><td>--</td><td>--</td><td>--</td><td>--</td><td>--</td><td>-1</td><td>-1</td><td>--</td><td>--</td><td>--</td><td>--</td><td>--</td><td>--</td><td>--</td><td>--</td><td>--</td><td>--</td><td>--</td><td>--</td><td>--</td><td>--</td></tr>\n",
       "<tr><td>45.001538</td><td>0.003729</td><td>2</td><td></td><td>3</td><td>J030000.36+000013.4</td><td>*</td><td>211-301-4-0027-0567</td><td>1237646380984107575</td><td></td><td>0</td><td>0</td><td>281543964754176</td><td>1025</td><td>0.163</td><td>0.161</td><td>1998.8264</td><td>3</td><td>23.063</td><td>0.864</td><td>22.739</td><td>0.265</td><td>22.043</td><td>0.223</td><td>21.063</td><td>0.148</td><td>20.503</td><td>0.399</td><td>--</td><td>--</td><td>--</td><td>--</td><td>--</td><td></td><td></td><td></td><td></td><td>--</td><td>9008298900751617</td><td>0</td><td>3</td><td>1998.8264</td><td>23.063</td><td>0.864</td><td>23.703</td><td>0.841</td><td>23.015</td><td>0.948</td><td>11.302</td><td>-1000.0</td><td>-0.01</td><td>0.01</td><td>29.658</td><td>0.134</td><td>28.9</td><td>9007199397380353</td><td>0</td><td>3</td><td>1998.8264</td><td>22.739</td><td>0.265</td><td>23.547</td><td>0.305</td><td>22.295</td><td>0.239</td><td>2.97</td><td>-1000.0</td><td>0.02</td><td>0.02</td><td>4.725</td><td>0.15</td><td>91.1</td><td>134250497</td><td>0</td><td>3</td><td>1998.8264</td><td>22.043</td><td>0.223</td><td>22.831</td><td>0.232</td><td>22.609</td><td>0.553</td><td>1.71</td><td>0.42</td><td>0.02</td><td>0.01</td><td>1.751</td><td>0.05</td><td>61.1</td><td>4503874916352000</td><td>0</td><td>3</td><td>1998.8264</td><td>21.063</td><td>0.148</td><td>21.819</td><td>0.155</td><td>21.594</td><td>0.321</td><td>1.702</td><td>0.377</td><td>0.0</td><td>0.0</td><td>2.035</td><td>0.05</td><td>61.1</td><td>9007199397380353</td><td>0</td><td>3</td><td>1998.8264</td><td>20.503</td><td>0.399</td><td>20.983</td><td>0.348</td><td>19.951</td><td>0.346</td><td>2.969</td><td>-1000.0</td><td>0.01</td><td>0.01</td><td>8.958</td><td>0.05</td><td>147.8</td><td>--</td><td>--</td><td>--</td><td>--</td><td>--</td><td>--</td><td>-1</td><td>-1</td><td>--</td><td>--</td><td>--</td><td>--</td><td>--</td><td>--</td><td>--</td><td>--</td><td>--</td><td>--</td><td>--</td><td>--</td><td>--</td><td>--</td></tr>\n",
       "<tr><td>45.001489</td><td>0.003741</td><td>2</td><td></td><td>6</td><td>J030000.35+000013.4</td><td></td><td>1755-301-4-0677-0449</td><td>1237653012456210881</td><td></td><td>0</td><td>0</td><td>281543964754176</td><td>1025</td><td>0.108</td><td>0.138</td><td>2000.7543</td><td>3</td><td>23.302</td><td>0.635</td><td>24.408</td><td>0.644</td><td>22.411</td><td>0.191</td><td>22.829</td><td>0.365</td><td>21.636</td><td>0.551</td><td>--</td><td>--</td><td>--</td><td>--</td><td>--</td><td></td><td></td><td></td><td></td><td>--</td><td>9007199397478657</td><td>0</td><td>3</td><td>2000.7543</td><td>23.302</td><td>0.635</td><td>23.277</td><td>0.561</td><td>24.466</td><td>3.219</td><td>2.97</td><td>-1000.0</td><td>0.02</td><td>-0.03</td><td>4.106</td><td>0.05</td><td>5.8</td><td>9007199397396737</td><td>0</td><td>3</td><td>2000.7543</td><td>24.408</td><td>0.644</td><td>24.375</td><td>0.589</td><td>24.937</td><td>2.006</td><td>2.97</td><td>-1000.0</td><td>0.06</td><td>-0.01</td><td>1.387</td><td>0.05</td><td>55.6</td><td>4503874773712896</td><td>1</td><td>6</td><td>2000.7543</td><td>22.411</td><td>0.191</td><td>22.474</td><td>0.183</td><td>22.445</td><td>0.548</td><td>1.871</td><td>0.907</td><td>0.0</td><td>0.0</td><td>0.462</td><td>0.05</td><td>0.0</td><td>9007199388992769</td><td>0</td><td>3</td><td>2000.7543</td><td>22.829</td><td>0.365</td><td>23.068</td><td>0.395</td><td>21.379</td><td>0.474</td><td>11.309</td><td>-1000.0</td><td>0.03</td><td>-0.03</td><td>16.628</td><td>0.337</td><td>98.6</td><td>9007199397380353</td><td>0</td><td>3</td><td>2000.7543</td><td>21.636</td><td>0.551</td><td>21.789</td><td>0.563</td><td>20.845</td><td>0.805</td><td>2.971</td><td>-1000.0</td><td>0.04</td><td>-0.02</td><td>9.889</td><td>0.05</td><td>89.4</td><td>--</td><td>--</td><td>--</td><td>--</td><td>--</td><td>--</td><td>-1</td><td>-1</td><td>--</td><td>--</td><td>--</td><td>--</td><td>--</td><td>--</td><td>--</td><td>--</td><td>--</td><td>--</td><td>--</td><td>--</td><td>--</td><td>--</td></tr>\n",
       "<tr><td>45.001365</td><td>0.00356</td><td>2</td><td></td><td>3</td><td>J030000.32+000012.8</td><td></td><td>94-301-3-0469-0705</td><td>1237645877965030081</td><td></td><td>0</td><td>0</td><td>281544233058560</td><td>1025</td><td>0.2</td><td>0.21</td><td>1998.7172</td><td>3</td><td>26.314</td><td>0.653</td><td>22.951</td><td>0.335</td><td>21.752</td><td>0.173</td><td>21.951</td><td>0.359</td><td>21.176</td><td>0.772</td><td>--</td><td>--</td><td>--</td><td>--</td><td>--</td><td></td><td></td><td></td><td></td><td>--</td><td>9007199397380353</td><td>1</td><td>6</td><td>1998.7172</td><td>26.314</td><td>0.653</td><td>25.408</td><td>0.699</td><td>23.736</td><td>3.278</td><td>2.969</td><td>-1000.0</td><td>0.05</td><td>-0.02</td><td>2.038</td><td>0.998</td><td>112.5</td><td>9007199397380353</td><td>0</td><td>3</td><td>1998.7172</td><td>22.951</td><td>0.335</td><td>23.616</td><td>0.328</td><td>22.956</td><td>0.906</td><td>2.968</td><td>-1000.0</td><td>0.06</td><td>0.0</td><td>9.887</td><td>0.05</td><td>84.8</td><td>4503875176400128</td><td>0</td><td>3</td><td>1998.7172</td><td>21.752</td><td>0.173</td><td>22.771</td><td>0.2</td><td>21.833</td><td>0.345</td><td>7.358</td><td>-1000.0</td><td>0.0</td><td>0.0</td><td>2.864</td><td>0.1</td><td>50.4</td><td>8421633</td><td>1</td><td>6</td><td>1998.7172</td><td>21.951</td><td>0.359</td><td>22.594</td><td>0.307</td><td>26.357</td><td>1.495</td><td>2.969</td><td>-1000.0</td><td>0.05</td><td>-0.02</td><td>0.047</td><td>0.4</td><td>110.5</td><td>18014398652121345</td><td>0</td><td>3</td><td>1998.7172</td><td>21.176</td><td>0.772</td><td>22.823</td><td>0.964</td><td>20.142</td><td>0.864</td><td>2.97</td><td>-1000.0</td><td>0.05</td><td>-0.02</td><td>29.664</td><td>0.05</td><td>30.4</td><td>--</td><td>--</td><td>--</td><td>--</td><td>--</td><td>--</td><td>-1</td><td>-1</td><td>--</td><td>--</td><td>--</td><td>--</td><td>--</td><td>--</td><td>--</td><td>--</td><td>--</td><td>--</td><td>--</td><td>--</td><td>--</td><td>--</td></tr>\n",
       "<tr><td>45.001441</td><td>0.003675</td><td>2</td><td></td><td>3</td><td>J030000.34+000013.2</td><td></td><td>3438-301-4-0100-1004</td><td>1237660240848356332</td><td></td><td>0</td><td>0</td><td>72339234907751168</td><td>1025</td><td>0.151</td><td>0.108</td><td>2002.8319</td><td>3</td><td>22.742</td><td>0.448</td><td>23.691</td><td>0.38</td><td>22.324</td><td>0.181</td><td>22.005</td><td>0.198</td><td>21.891</td><td>0.707</td><td>--</td><td>--</td><td>--</td><td>--</td><td>--</td><td></td><td></td><td></td><td></td><td>--</td><td>9007199388991489</td><td>0</td><td>3</td><td>2002.8319</td><td>22.742</td><td>0.448</td><td>22.892</td><td>0.322</td><td>20.796</td><td>0.261</td><td>1.098</td><td>0.936</td><td>-0.01</td><td>0.0</td><td>6.252</td><td>0.05</td><td>52.9</td><td>9007199397380353</td><td>0</td><td>3</td><td>2002.8319</td><td>23.691</td><td>0.38</td><td>24.055</td><td>0.327</td><td>22.956</td><td>0.716</td><td>2.97</td><td>-1000.0</td><td>0.0</td><td>0.02</td><td>1.364</td><td>0.622</td><td>86.2</td><td>4503875050569984</td><td>0</td><td>3</td><td>2002.8318</td><td>22.324</td><td>0.181</td><td>22.956</td><td>0.187</td><td>22.246</td><td>0.488</td><td>2.97</td><td>-1000.0</td><td>0.0</td><td>0.0</td><td>1.369</td><td>0.211</td><td>65.7</td><td>72057869595345408</td><td>0</td><td>3</td><td>2002.8318</td><td>22.005</td><td>0.198</td><td>22.625</td><td>0.201</td><td>21.761</td><td>0.615</td><td>2.103</td><td>2.099</td><td>0.7</td><td>0.05</td><td>6.354</td><td>0.05</td><td>57.7</td><td>9007199388991489</td><td>1</td><td>6</td><td>2002.8319</td><td>21.891</td><td>0.707</td><td>22.04</td><td>0.478</td><td>25.226</td><td>0.794</td><td>0.644</td><td>0.546</td><td>-0.01</td><td>0.01</td><td>0.001</td><td>0.084</td><td>67.6</td><td>--</td><td>--</td><td>--</td><td>--</td><td>--</td><td>--</td><td>-1</td><td>-1</td><td>--</td><td>--</td><td>--</td><td>--</td><td>--</td><td>--</td><td>--</td><td>--</td><td>--</td><td>--</td><td>--</td><td>--</td><td>--</td><td>--</td></tr>\n",
       "<tr><td>45.001638</td><td>0.003727</td><td>1</td><td></td><td>3</td><td>J030000.39+000013.4</td><td></td><td>4263-301-4-0416-1095</td><td>1237663784217084999</td><td></td><td>0</td><td>0</td><td>422281721544960</td><td>257</td><td>0.458</td><td>0.136</td><td>2003.8858</td><td>3</td><td>23.823</td><td>1.041</td><td>23.177</td><td>0.32</td><td>22.802</td><td>0.349</td><td>21.693</td><td>0.208</td><td>20.916</td><td>0.431</td><td>--</td><td>--</td><td>--</td><td>--</td><td>--</td><td></td><td></td><td></td><td></td><td>--</td><td>9007199388958721</td><td>0</td><td>3</td><td>2003.8858</td><td>23.823</td><td>1.041</td><td>23.828</td><td>0.524</td><td>21.495</td><td>0.274</td><td>0.069</td><td>0.049</td><td>-0.4</td><td>-0.15</td><td>6.374</td><td>0.05</td><td>27.2</td><td>9007199397347585</td><td>0</td><td>3</td><td>2003.8858</td><td>23.177</td><td>0.32</td><td>23.879</td><td>0.295</td><td>23.707</td><td>0.869</td><td>2.97</td><td>-1000.0</td><td>-0.39</td><td>-0.13</td><td>1.209</td><td>0.05</td><td>36.9</td><td>9147936877479169</td><td>0</td><td>3</td><td>2003.8858</td><td>22.802</td><td>0.349</td><td>23.726</td><td>0.438</td><td>22.482</td><td>0.474</td><td>7.359</td><td>-1000.0</td><td>-0.4</td><td>-0.13</td><td>4.077</td><td>0.05</td><td>59.4</td><td>4503875042148352</td><td>0</td><td>3</td><td>2003.8858</td><td>21.693</td><td>0.208</td><td>22.835</td><td>0.216</td><td>22.463</td><td>0.928</td><td>1.808</td><td>0.533</td><td>0.0</td><td>0.0</td><td>3.021</td><td>0.05</td><td>86.2</td><td>9007199397347585</td><td>0</td><td>3</td><td>2003.8858</td><td>20.916</td><td>0.431</td><td>21.55</td><td>0.335</td><td>21.084</td><td>0.937</td><td>2.97</td><td>-1000.0</td><td>-0.4</td><td>-0.13</td><td>1.076</td><td>0.05</td><td>144.6</td><td>--</td><td>--</td><td>--</td><td>--</td><td>--</td><td>--</td><td>-1</td><td>-1</td><td>--</td><td>--</td><td>--</td><td>--</td><td>--</td><td>0.8816</td><td>0.1046</td><td>0.7327</td><td>2.298</td><td>-20.625</td><td>-20.512</td><td>-21.462</td><td>-21.756</td><td>-22.146</td></tr>\n",
       "<tr><td>45.001382</td><td>0.003687</td><td>2</td><td></td><td>3</td><td>J030000.33+000013.2</td><td></td><td>2886-301-4-0210-0748</td><td>1237657870033617644</td><td></td><td>0</td><td>0</td><td>281544233189632</td><td>1025</td><td>0.283</td><td>0.344</td><td>2002.0374</td><td>3</td><td>25.273</td><td>1.237</td><td>23.299</td><td>0.347</td><td>22.249</td><td>0.231</td><td>21.588</td><td>0.175</td><td>22.612</td><td>1.123</td><td>--</td><td>--</td><td>--</td><td>--</td><td>--</td><td></td><td></td><td></td><td></td><td>--</td><td>9007199397347585</td><td>1</td><td>6</td><td>2002.0374</td><td>25.273</td><td>1.237</td><td>24.445</td><td>0.956</td><td>26.805</td><td>0.762</td><td>2.969</td><td>-1000.0</td><td>-0.08</td><td>-0.27</td><td>0.001</td><td>0.454</td><td>109.2</td><td>9007199388992769</td><td>0</td><td>3</td><td>2002.0374</td><td>23.299</td><td>0.347</td><td>23.699</td><td>0.302</td><td>22.738</td><td>0.511</td><td>27.92</td><td>-1000.0</td><td>-0.06</td><td>-0.25</td><td>1.775</td><td>0.05</td><td>82.1</td><td>142737665</td><td>0</td><td>3</td><td>2002.0374</td><td>22.249</td><td>0.231</td><td>22.987</td><td>0.288</td><td>21.926</td><td>0.363</td><td>2.97</td><td>-1000.0</td><td>-0.08</td><td>-0.26</td><td>9.016</td><td>0.207</td><td>30.2</td><td>4503875176366080</td><td>0</td><td>3</td><td>2002.0374</td><td>21.588</td><td>0.175</td><td>22.348</td><td>0.193</td><td>21.648</td><td>0.404</td><td>2.333</td><td>0.752</td><td>0.0</td><td>0.0</td><td>2.124</td><td>0.165</td><td>69.3</td><td>9007199388958721</td><td>1</td><td>6</td><td>2002.0374</td><td>22.612</td><td>1.123</td><td>22.207</td><td>0.56</td><td>24.685</td><td>1.117</td><td>1.328</td><td>1.269</td><td>-0.08</td><td>-0.26</td><td>0.03</td><td>0.051</td><td>64.6</td><td>--</td><td>--</td><td>--</td><td>--</td><td>--</td><td>--</td><td>-1</td><td>-1</td><td>--</td><td>--</td><td>--</td><td>--</td><td>--</td><td>--</td><td>--</td><td>--</td><td>--</td><td>--</td><td>--</td><td>--</td><td>--</td><td>--</td></tr>\n",
       "</table>"
      ],
      "text/plain": [
       "<Table length=10>\n",
       " RA_ICRS  DE_ICRS   mode q_mode class ...  g'Mag   r'Mag   i'Mag   z'Mag \n",
       "   deg      deg                       ...   mag     mag     mag     mag  \n",
       " float64  float64  int16  str1  int16 ... float64 float64 float64 float64\n",
       "--------- -------- ----- ------ ----- ... ------- ------- ------- -------\n",
       "45.001596 0.003649     2            3 ...      --      --      --      --\n",
       "45.001673 0.003537     2            3 ...      --      --      --      --\n",
       "45.001502 0.003537     2            3 ...      --      --      --      --\n",
       "45.001517 0.003671     2            3 ...      --      --      --      --\n",
       "45.001538 0.003729     2            3 ...      --      --      --      --\n",
       "45.001489 0.003741     2            6 ...      --      --      --      --\n",
       "45.001365  0.00356     2            3 ...      --      --      --      --\n",
       "45.001441 0.003675     2            3 ...      --      --      --      --\n",
       "45.001638 0.003727     1            3 ... -20.512 -21.462 -21.756 -22.146\n",
       "45.001382 0.003687     2            3 ...      --      --      --      --"
      ]
     },
     "execution_count": 11,
     "metadata": {},
     "output_type": "execute_result"
    }
   ],
   "source": [
    "# Once you've chosen your catalogue,\n",
    "# check what data are available \n",
    "# by querying only a small subsample\n",
    "# and customize your Vizier query\n",
    "\n",
    "query_test = \"\"\" SELECT TOP 10 * FROM \"V/147/sdss12\" \"\"\"\n",
    "test_sdss = tap_vizier.search(query_test).to_table()\n",
    "test_sdss"
   ]
  },
  {
   "cell_type": "code",
   "execution_count": 12,
   "metadata": {
    "slideshow": {
     "slide_type": "slide"
    }
   },
   "outputs": [
    {
     "data": {
      "text/html": [
       "&lt;MaskedColumn name=&apos;class&apos; dtype=&apos;int16&apos; description=&apos;Type of object (3=galaxy, 6=star) (1)&apos; length=10&gt;\n",
       "<table>\n",
       "<tr><td>3</td></tr>\n",
       "<tr><td>3</td></tr>\n",
       "<tr><td>3</td></tr>\n",
       "<tr><td>3</td></tr>\n",
       "<tr><td>3</td></tr>\n",
       "<tr><td>6</td></tr>\n",
       "<tr><td>3</td></tr>\n",
       "<tr><td>3</td></tr>\n",
       "<tr><td>3</td></tr>\n",
       "<tr><td>3</td></tr>\n",
       "</table>"
      ],
      "text/plain": [
       "<MaskedColumn name='class' dtype='int16' description='Type of object (3=galaxy, 6=star) (1)' length=10>\n",
       "3\n",
       "3\n",
       "3\n",
       "3\n",
       "3\n",
       "6\n",
       "3\n",
       "3\n",
       "3\n",
       "3"
      ]
     },
     "execution_count": 12,
     "metadata": {},
     "output_type": "execute_result"
    }
   ],
   "source": [
    "#inspect data\n",
    "test_sdss['class']"
   ]
  },
  {
   "cell_type": "code",
   "execution_count": null,
   "metadata": {
    "slideshow": {
     "slide_type": "fragment"
    }
   },
   "outputs": [],
   "source": [
    "# now customise your Vizier query\n",
    "\n",
    "query = \"\"\" SELECT RA_ICRS, DE_ICRS, rmag, zsp\n",
    "            FROM \"V/147/sdss12\"\n",
    "            WHERE class=3 AND Q=3 AND rmag>11.5 AND rmag<17 AND zsp>0\n",
    "            \"\"\"\n",
    "cat_sdss = tap_vizier.search(query).to_table()\n",
    "cat_sdss"
   ]
  },
  {
   "cell_type": "markdown",
   "metadata": {
    "slideshow": {
     "slide_type": "slide"
    }
   },
   "source": [
    "## XMatch\n",
    "\n",
    "[`Crossmatching of big tables`](http://cdsxmatch.u-strasbg.fr/)\n",
    "\n",
    "- Crossmatch any available VizieR table\n",
    "- or upload your own tables"
   ]
  },
  {
   "cell_type": "code",
   "execution_count": 15,
   "metadata": {
    "slideshow": {
     "slide_type": "slide"
    }
   },
   "outputs": [
    {
     "data": {
      "text/html": [
       "<i>Table length=203850</i>\n",
       "<table id=\"table140411766599744\" class=\"table-striped table-bordered table-condensed\">\n",
       "<thead><tr><th>angDist</th><th>RAdeg</th><th>DEdeg</th><th>errHalfMaj</th><th>errHalfMin</th><th>errPosAng</th><th>objID</th><th>mode</th><th>q_mode</th><th>class</th><th>SDSS12</th><th>m_SDSS12</th><th>flags</th><th>ObsDate</th><th>Q</th><th>umag</th><th>e_umag</th><th>gmag</th><th>e_gmag</th><th>rmag</th><th>e_rmag</th><th>imag</th><th>e_imag</th><th>zmag</th><th>e_zmag</th><th>zsp</th><th>e_zsp</th><th>f_zsp</th><th>zph</th><th>e_zph</th><th>avg_zph</th><th>pmRA</th><th>e_pmRA</th><th>pmDE</th><th>e_pmDE</th><th>SpObjID</th><th>spType</th><th>spCl</th><th>subClass</th><th>_RAJ2000</th><th>_DEJ2000</th><th>RAJ2000</th><th>DEJ2000</th><th>cz</th><th>e_cz</th><th>r_cz</th><th>Cluster</th></tr></thead>\n",
       "<thead><tr><th>float64</th><th>float64</th><th>float64</th><th>float64</th><th>float64</th><th>int64</th><th>int64</th><th>int64</th><th>str1</th><th>int64</th><th>str19</th><th>str1</th><th>int64</th><th>float64</th><th>int64</th><th>float64</th><th>float64</th><th>float64</th><th>float64</th><th>float64</th><th>float64</th><th>float64</th><th>float64</th><th>float64</th><th>float64</th><th>float64</th><th>float64</th><th>int64</th><th>float64</th><th>float64</th><th>float64</th><th>float64</th><th>float64</th><th>float64</th><th>float64</th><th>int64</th><th>str18</th><th>str6</th><th>str21</th><th>float64</th><th>float64</th><th>str11</th><th>str11</th><th>int64</th><th>int64</th><th>int64</th><th>str5</th></tr></thead>\n",
       "<tr><td>0.288917</td><td>9.121848</td><td>-0.728554</td><td>0.003</td><td>0.002</td><td>90</td><td>1237646010550255653</td><td>2</td><td>--</td><td>3</td><td>J003629.24-004342.7</td><td>*</td><td>35287719874576</td><td>1998.7333</td><td>3</td><td>17.751</td><td>0.017</td><td>15.872</td><td>0.003</td><td>15.061</td><td>0.002</td><td>14.668</td><td>0.002</td><td>14.366</td><td>0.004</td><td>--</td><td>--</td><td>--</td><td>--</td><td>--</td><td>--</td><td>-12.2</td><td>2.7</td><td>-3.2</td><td>2.7</td><td>0</td><td>--</td><td>--</td><td>--</td><td>9.1217917</td><td>-0.7286111</td><td>00 36 29.23</td><td>-00 43 43.0</td><td>10214</td><td>51</td><td>2</td><td>A0119</td></tr>\n",
       "<tr><td>0.324371</td><td>9.121864</td><td>-0.728557</td><td>0.002</td><td>0.001</td><td>90</td><td>1237663783127613510</td><td>1</td><td>+</td><td>3</td><td>J003629.24-004342.8</td><td>*</td><td>35253360136208</td><td>2003.8855</td><td>3</td><td>17.762</td><td>0.015</td><td>15.906</td><td>0.003</td><td>15.08</td><td>0.003</td><td>14.708</td><td>0.003</td><td>14.388</td><td>0.004</td><td>0.03409</td><td>1e-05</td><td>0</td><td>0.04205</td><td>0.01104</td><td>0.04263</td><td>-9.6</td><td>2.4</td><td>-3.4</td><td>2.4</td><td>441389077447600128</td><td>GALAXY</td><td>GALAXY</td><td>--</td><td>9.1217917</td><td>-0.7286111</td><td>00 36 29.23</td><td>-00 43 43.0</td><td>10214</td><td>51</td><td>2</td><td>A0119</td></tr>\n",
       "<tr><td>0.340962</td><td>9.121874</td><td>-0.728564</td><td>0.002</td><td>0.002</td><td>0</td><td>1237667171856416774</td><td>2</td><td>--</td><td>3</td><td>J003629.24-004342.8</td><td>*</td><td>35253360136208</td><td>2004.9505</td><td>3</td><td>17.772</td><td>0.016</td><td>15.916</td><td>0.003</td><td>15.084</td><td>0.003</td><td>14.665</td><td>0.003</td><td>14.391</td><td>0.004</td><td>--</td><td>--</td><td>--</td><td>--</td><td>--</td><td>--</td><td>-8.9</td><td>2.4</td><td>-3.9</td><td>2.4</td><td>0</td><td>--</td><td>--</td><td>--</td><td>9.1217917</td><td>-0.7286111</td><td>00 36 29.23</td><td>-00 43 43.0</td><td>10214</td><td>51</td><td>2</td><td>A0119</td></tr>\n",
       "<tr><td>0.345813</td><td>9.121881</td><td>-0.728575</td><td>0.002</td><td>0.002</td><td>90</td><td>1237663276321144858</td><td>2</td><td>--</td><td>3</td><td>J003629.25-004342.8</td><td>--</td><td>35253360136208</td><td>2003.7408</td><td>3</td><td>17.756</td><td>0.016</td><td>15.912</td><td>0.003</td><td>15.08</td><td>0.003</td><td>14.682</td><td>0.003</td><td>14.395</td><td>0.004</td><td>--</td><td>--</td><td>--</td><td>--</td><td>--</td><td>--</td><td>-8.6</td><td>2.4</td><td>-4.9</td><td>2.4</td><td>0</td><td>--</td><td>--</td><td>--</td><td>9.1217917</td><td>-0.7286111</td><td>00 36 29.23</td><td>-00 43 43.0</td><td>10214</td><td>51</td><td>2</td><td>A0119</td></tr>\n",
       "<tr><td>0.358494</td><td>9.121868</td><td>-0.728547</td><td>0.002</td><td>0.002</td><td>90</td><td>1237660222615322639</td><td>2</td><td>--</td><td>3</td><td>J003629.24-004342.7</td><td>*</td><td>35253360136208</td><td>2002.8289</td><td>3</td><td>17.73</td><td>0.016</td><td>15.906</td><td>0.003</td><td>15.083</td><td>0.003</td><td>14.696</td><td>0.003</td><td>14.391</td><td>0.004</td><td>--</td><td>--</td><td>--</td><td>--</td><td>--</td><td>--</td><td>-9.1</td><td>2.5</td><td>-3.1</td><td>2.5</td><td>0</td><td>--</td><td>--</td><td>--</td><td>9.1217917</td><td>-0.7286111</td><td>00 36 29.23</td><td>-00 43 43.0</td><td>10214</td><td>51</td><td>2</td><td>A0119</td></tr>\n",
       "<tr><td>0.363257</td><td>9.121864</td><td>-0.72854</td><td>0.002</td><td>0.002</td><td>90</td><td>1237663525448581133</td><td>2</td><td>--</td><td>3</td><td>J003629.24-004342.7</td><td>*</td><td>35253360136208</td><td>2003.8091</td><td>3</td><td>17.742</td><td>0.017</td><td>15.898</td><td>0.003</td><td>15.081</td><td>0.003</td><td>14.696</td><td>0.003</td><td>14.383</td><td>0.004</td><td>--</td><td>--</td><td>--</td><td>--</td><td>--</td><td>--</td><td>-9.6</td><td>2.4</td><td>-2.9</td><td>2.4</td><td>0</td><td>--</td><td>--</td><td>--</td><td>9.1217917</td><td>-0.7286111</td><td>00 36 29.23</td><td>-00 43 43.0</td><td>10214</td><td>51</td><td>2</td><td>A0119</td></tr>\n",
       "<tr><td>0.364831</td><td>9.12187</td><td>-0.728547</td><td>0.002</td><td>0.002</td><td>90</td><td>1237660355751379015</td><td>2</td><td>--</td><td>3</td><td>J003629.24-004342.7</td><td>*</td><td>35253360136208</td><td>2002.8535</td><td>3</td><td>17.731</td><td>0.015</td><td>15.905</td><td>0.003</td><td>15.09</td><td>0.003</td><td>14.695</td><td>0.003</td><td>14.393</td><td>0.004</td><td>--</td><td>--</td><td>--</td><td>--</td><td>--</td><td>--</td><td>-9.4</td><td>2.5</td><td>-2.8</td><td>2.5</td><td>0</td><td>--</td><td>--</td><td>--</td><td>9.1217917</td><td>-0.7286111</td><td>00 36 29.23</td><td>-00 43 43.0</td><td>10214</td><td>51</td><td>2</td><td>A0119</td></tr>\n",
       "<tr><td>0.373178</td><td>9.121877</td><td>-0.728553</td><td>0.002</td><td>0.002</td><td>90</td><td>1237660025044598832</td><td>2</td><td>--</td><td>3</td><td>J003629.25-004342.7</td><td>*</td><td>35255507619856</td><td>2002.7772</td><td>3</td><td>17.749</td><td>0.018</td><td>15.893</td><td>0.003</td><td>15.063</td><td>0.003</td><td>14.682</td><td>0.003</td><td>14.349</td><td>0.004</td><td>--</td><td>--</td><td>--</td><td>--</td><td>--</td><td>--</td><td>-8.9</td><td>2.5</td><td>-3.5</td><td>2.5</td><td>0</td><td>--</td><td>--</td><td>--</td><td>9.1217917</td><td>-0.7286111</td><td>00 36 29.23</td><td>-00 43 43.0</td><td>10214</td><td>51</td><td>2</td><td>A0119</td></tr>\n",
       "<tr><td>0.380413</td><td>9.121881</td><td>-0.728555</td><td>0.002</td><td>0.002</td><td>0</td><td>1237653011366739991</td><td>2</td><td>--</td><td>3</td><td>J003629.25-004342.7</td><td>*</td><td>35253360136208</td><td>2000.754</td><td>3</td><td>17.805</td><td>0.019</td><td>15.902</td><td>0.003</td><td>15.094</td><td>0.003</td><td>14.705</td><td>0.003</td><td>14.397</td><td>0.004</td><td>--</td><td>--</td><td>--</td><td>--</td><td>--</td><td>--</td><td>-8.8</td><td>2.6</td><td>-3.6</td><td>2.6</td><td>0</td><td>--</td><td>--</td><td>--</td><td>9.1217917</td><td>-0.7286111</td><td>00 36 29.23</td><td>-00 43 43.0</td><td>10214</td><td>51</td><td>2</td><td>A0119</td></tr>\n",
       "<tr><td>0.385671</td><td>9.121862</td><td>-0.72853</td><td>0.002</td><td>0.002</td><td>90</td><td>1237659904788267045</td><td>2</td><td>--</td><td>3</td><td>J003629.24-004342.7</td><td>*</td><td>35253360136208</td><td>2002.7607</td><td>3</td><td>17.801</td><td>0.017</td><td>15.92</td><td>0.003</td><td>15.095</td><td>0.003</td><td>14.707</td><td>0.003</td><td>14.423</td><td>0.004</td><td>--</td><td>--</td><td>--</td><td>--</td><td>--</td><td>--</td><td>-10.3</td><td>2.5</td><td>-1.6</td><td>2.5</td><td>0</td><td>--</td><td>--</td><td>--</td><td>9.1217917</td><td>-0.7286111</td><td>00 36 29.23</td><td>-00 43 43.0</td><td>10214</td><td>51</td><td>2</td><td>A0119</td></tr>\n",
       "<tr><td>...</td><td>...</td><td>...</td><td>...</td><td>...</td><td>...</td><td>...</td><td>...</td><td>...</td><td>...</td><td>...</td><td>...</td><td>...</td><td>...</td><td>...</td><td>...</td><td>...</td><td>...</td><td>...</td><td>...</td><td>...</td><td>...</td><td>...</td><td>...</td><td>...</td><td>...</td><td>...</td><td>...</td><td>...</td><td>...</td><td>...</td><td>...</td><td>...</td><td>...</td><td>...</td><td>...</td><td>...</td><td>...</td><td>...</td><td>...</td><td>...</td><td>...</td><td>...</td><td>...</td><td>...</td><td>...</td><td>...</td></tr>\n",
       "<tr><td>0.351859</td><td>206.211126</td><td>29.481763</td><td>0.003</td><td>0.003</td><td>0</td><td>1237665430241542271</td><td>1</td><td>+</td><td>3</td><td>J134450.67+292854.3</td><td>*</td><td>68988047360</td><td>2004.3897</td><td>3</td><td>18.603</td><td>0.031</td><td>16.753</td><td>0.004</td><td>15.911</td><td>0.003</td><td>15.5</td><td>0.003</td><td>15.183</td><td>0.006</td><td>0.04234</td><td>1e-05</td><td>0</td><td>0.05341</td><td>0.00996</td><td>0.05505</td><td>3.7</td><td>2.4</td><td>-3.1</td><td>2.4</td><td>2357646839043352576</td><td>GALAXY</td><td>GALAXY</td><td>--</td><td>206.211125</td><td>29.4818611</td><td>13 44 50.67</td><td>+29 28 54.7</td><td>12699</td><td>29</td><td>2</td><td>A1656</td></tr>\n",
       "<tr><td>0.395486</td><td>206.21114</td><td>29.481752</td><td>0.004</td><td>0.003</td><td>0</td><td>1237665328786636925</td><td>2</td><td>--</td><td>3</td><td>J134450.67+292854.3</td><td>*</td><td>69055156808</td><td>2004.3623</td><td>3</td><td>18.555</td><td>0.026</td><td>16.733</td><td>0.004</td><td>15.886</td><td>0.003</td><td>15.492</td><td>0.003</td><td>15.151</td><td>0.007</td><td>--</td><td>--</td><td>--</td><td>--</td><td>--</td><td>--</td><td>4.8</td><td>2.4</td><td>-3.3</td><td>2.4</td><td>0</td><td>--</td><td>--</td><td>--</td><td>206.211125</td><td>29.4818611</td><td>13 44 50.67</td><td>+29 28 54.7</td><td>12699</td><td>29</td><td>2</td><td>A1656</td></tr>\n",
       "<tr><td>0.733284</td><td>206.219775</td><td>29.770262</td><td>0.074</td><td>0.074</td><td>90</td><td>1237665225702834259</td><td>1</td><td>--</td><td>6</td><td>J134452.74+294612.9</td><td>--</td><td>387097114579216</td><td>2004.316</td><td>3</td><td>24.635</td><td>0.947</td><td>22.187</td><td>0.13</td><td>24.802</td><td>0.907</td><td>21.793</td><td>0.175</td><td>22.827</td><td>0.653</td><td>--</td><td>--</td><td>--</td><td>--</td><td>--</td><td>--</td><td>--</td><td>--</td><td>--</td><td>--</td><td>0</td><td>--</td><td>--</td><td>--</td><td>206.2199583</td><td>29.7703889</td><td>13 44 52.79</td><td>+29 46 13.4</td><td>18544</td><td>36</td><td>1</td><td>A1656</td></tr>\n",
       "<tr><td>0.342526</td><td>206.248136</td><td>29.426623</td><td>0.012</td><td>0.011</td><td>0</td><td>1237665430241542292</td><td>1</td><td>+</td><td>3</td><td>J134459.55+292535.8</td><td>*</td><td>35253360136208</td><td>2004.3897</td><td>3</td><td>16.894</td><td>0.029</td><td>15.577</td><td>0.004</td><td>14.953</td><td>0.004</td><td>14.626</td><td>0.004</td><td>14.362</td><td>0.012</td><td>0.04379</td><td>2e-05</td><td>0</td><td>0.03604</td><td>0.01137</td><td>0.03876</td><td>7.4</td><td>3.5</td><td>-6.4</td><td>3.5</td><td>2271098774937954304</td><td>GALAXY</td><td>GALAXY</td><td>STARFORMING</td><td>206.2482083</td><td>29.4266944</td><td>13 44 59.57</td><td>+29 25 36.1</td><td>12284</td><td>115</td><td>2</td><td>A1656</td></tr>\n",
       "<tr><td>0.34598</td><td>206.248142</td><td>29.426617</td><td>0.013</td><td>0.012</td><td>90</td><td>1237665328786702459</td><td>2</td><td>--</td><td>3</td><td>J134459.55+292535.8</td><td>*</td><td>35253360132624</td><td>2004.3623</td><td>3</td><td>16.791</td><td>0.024</td><td>15.472</td><td>0.004</td><td>14.871</td><td>0.004</td><td>14.505</td><td>0.004</td><td>14.235</td><td>0.012</td><td>--</td><td>--</td><td>--</td><td>--</td><td>--</td><td>--</td><td>7.5</td><td>3.5</td><td>-6.4</td><td>3.5</td><td>0</td><td>--</td><td>--</td><td>--</td><td>206.2482083</td><td>29.4266944</td><td>13 44 59.57</td><td>+29 25 36.1</td><td>12284</td><td>115</td><td>2</td><td>A1656</td></tr>\n",
       "<tr><td>0.401308</td><td>206.272717</td><td>29.626494</td><td>0.007</td><td>0.007</td><td>0</td><td>1237665178444300493</td><td>2</td><td>--</td><td>3</td><td>J134505.45+293735.3</td><td>--</td><td>68988047360</td><td>2004.3076</td><td>3</td><td>19.135</td><td>0.043</td><td>17.275</td><td>0.006</td><td>16.388</td><td>0.004</td><td>15.981</td><td>0.004</td><td>15.671</td><td>0.009</td><td>--</td><td>--</td><td>--</td><td>--</td><td>--</td><td>--</td><td>0.9</td><td>2.4</td><td>-0.6</td><td>2.4</td><td>0</td><td>--</td><td>--</td><td>--</td><td>206.272625</td><td>29.6264167</td><td>13 45 05.43</td><td>+29 37 35.1</td><td>18607</td><td>48</td><td>2</td><td>A1656</td></tr>\n",
       "<tr><td>0.412458</td><td>206.272696</td><td>29.626513</td><td>0.007</td><td>0.006</td><td>0</td><td>1237665225702899874</td><td>1</td><td>+</td><td>3</td><td>J134505.44+293735.4</td><td>*</td><td>35253360001040</td><td>2004.316</td><td>3</td><td>19.162</td><td>0.045</td><td>17.263</td><td>0.006</td><td>16.38</td><td>0.004</td><td>15.967</td><td>0.004</td><td>15.652</td><td>0.009</td><td>0.06173</td><td>2e-05</td><td>0</td><td>0.07109</td><td>0.01034</td><td>0.07307</td><td>0.8</td><td>2.4</td><td>0.8</td><td>2.4</td><td>2271094376891443200</td><td>GALAXY</td><td>GALAXY</td><td>--</td><td>206.272625</td><td>29.6264167</td><td>13 45 05.43</td><td>+29 37 35.1</td><td>18607</td><td>48</td><td>2</td><td>A1656</td></tr>\n",
       "<tr><td>0.440004</td><td>206.272712</td><td>29.626513</td><td>0.007</td><td>0.006</td><td>0</td><td>1237665328786636935</td><td>2</td><td>--</td><td>3</td><td>J134505.45+293735.4</td><td>*</td><td>68987912192</td><td>2004.3623</td><td>3</td><td>19.173</td><td>0.046</td><td>17.307</td><td>0.006</td><td>16.42</td><td>0.004</td><td>15.997</td><td>0.004</td><td>15.644</td><td>0.01</td><td>--</td><td>--</td><td>--</td><td>--</td><td>--</td><td>--</td><td>2.5</td><td>2.4</td><td>0.9</td><td>2.4</td><td>0</td><td>--</td><td>--</td><td>--</td><td>206.272625</td><td>29.6264167</td><td>13 45 05.43</td><td>+29 37 35.1</td><td>18607</td><td>48</td><td>2</td><td>A1656</td></tr>\n",
       "<tr><td>0.396965</td><td>206.277801</td><td>29.520511</td><td>0.048</td><td>0.037</td><td>0</td><td>1237665430241542469</td><td>1</td><td>--</td><td>3</td><td>J134506.67+293113.8</td><td>*</td><td>176025208225880</td><td>2004.3897</td><td>3</td><td>20.683</td><td>0.098</td><td>19.999</td><td>0.021</td><td>20.116</td><td>0.033</td><td>19.781</td><td>0.042</td><td>19.82</td><td>0.16</td><td>--</td><td>--</td><td>--</td><td>0.07415</td><td>0.06532</td><td>0.13103</td><td>7.5</td><td>3.5</td><td>-3.7</td><td>3.5</td><td>0</td><td>--</td><td>--</td><td>--</td><td>206.2779167</td><td>29.5205556</td><td>13 45 06.70</td><td>+29 31 14.0</td><td>18197</td><td>839</td><td>2</td><td>A1656</td></tr>\n",
       "<tr><td>0.52731</td><td>206.277796</td><td>29.520454</td><td>0.049</td><td>0.038</td><td>0</td><td>1237665328786702636</td><td>2</td><td>--</td><td>3</td><td>J134506.67+293113.6</td><td>*</td><td>105622104310032</td><td>2004.3623</td><td>3</td><td>20.174</td><td>0.073</td><td>19.632</td><td>0.022</td><td>19.815</td><td>0.034</td><td>19.467</td><td>0.044</td><td>19.815</td><td>0.234</td><td>--</td><td>--</td><td>--</td><td>--</td><td>--</td><td>--</td><td>7.6</td><td>3.5</td><td>-7.3</td><td>3.5</td><td>0</td><td>--</td><td>--</td><td>--</td><td>206.2779167</td><td>29.5205556</td><td>13 45 06.70</td><td>+29 31 14.0</td><td>18197</td><td>839</td><td>2</td><td>A1656</td></tr>\n",
       "</table>"
      ],
      "text/plain": [
       "<Table length=203850>\n",
       "angDist    RAdeg      DEdeg   errHalfMaj ...   cz   e_cz  r_cz Cluster\n",
       "float64   float64    float64   float64   ... int64 int64 int64   str5 \n",
       "-------- ---------- --------- ---------- ... ----- ----- ----- -------\n",
       "0.288917   9.121848 -0.728554      0.003 ... 10214    51     2   A0119\n",
       "0.324371   9.121864 -0.728557      0.002 ... 10214    51     2   A0119\n",
       "0.340962   9.121874 -0.728564      0.002 ... 10214    51     2   A0119\n",
       "0.345813   9.121881 -0.728575      0.002 ... 10214    51     2   A0119\n",
       "0.358494   9.121868 -0.728547      0.002 ... 10214    51     2   A0119\n",
       "0.363257   9.121864  -0.72854      0.002 ... 10214    51     2   A0119\n",
       "0.364831    9.12187 -0.728547      0.002 ... 10214    51     2   A0119\n",
       "0.373178   9.121877 -0.728553      0.002 ... 10214    51     2   A0119\n",
       "0.380413   9.121881 -0.728555      0.002 ... 10214    51     2   A0119\n",
       "0.385671   9.121862  -0.72853      0.002 ... 10214    51     2   A0119\n",
       "     ...        ...       ...        ... ...   ...   ...   ...     ...\n",
       "0.351859 206.211126 29.481763      0.003 ... 12699    29     2   A1656\n",
       "0.395486  206.21114 29.481752      0.004 ... 12699    29     2   A1656\n",
       "0.733284 206.219775 29.770262      0.074 ... 18544    36     1   A1656\n",
       "0.342526 206.248136 29.426623      0.012 ... 12284   115     2   A1656\n",
       " 0.34598 206.248142 29.426617      0.013 ... 12284   115     2   A1656\n",
       "0.401308 206.272717 29.626494      0.007 ... 18607    48     2   A1656\n",
       "0.412458 206.272696 29.626513      0.007 ... 18607    48     2   A1656\n",
       "0.440004 206.272712 29.626513      0.007 ... 18607    48     2   A1656\n",
       "0.396965 206.277801 29.520511      0.048 ... 18197   839     2   A1656\n",
       " 0.52731 206.277796 29.520454      0.049 ... 18197   839     2   A1656"
      ]
     },
     "execution_count": 15,
     "metadata": {},
     "output_type": "execute_result"
    }
   ],
   "source": [
    "from astroquery.xmatch import XMatch\n",
    "import astropy.units as u\n",
    "\n",
    "xmatch_sdss_rines = XMatch.query(cat1='vizier:V/147/sdss12', \n",
    "                                 cat2='vizier:J/AJ/126/2152/galaxies',\n",
    "                                 max_distance=1 * u.arcsec, \n",
    "                                 colRA1='RA_ICRS',\n",
    "                                 colDec1='DE_ICRS',colRA2='RA_J2000',\n",
    "                                 colDec2='DE_J2000')\n",
    "xmatch_sdss_rines"
   ]
  }
 ],
 "metadata": {
  "celltoolbar": "Slideshow",
  "kernelspec": {
   "display_name": "Python 3",
   "language": "python",
   "name": "python3"
  },
  "language_info": {
   "codemirror_mode": {
    "name": "ipython",
    "version": 3
   },
   "file_extension": ".py",
   "mimetype": "text/x-python",
   "name": "python",
   "nbconvert_exporter": "python",
   "pygments_lexer": "ipython3",
   "version": "3.8.10"
  }
 },
 "nbformat": 4,
 "nbformat_minor": 2
}
