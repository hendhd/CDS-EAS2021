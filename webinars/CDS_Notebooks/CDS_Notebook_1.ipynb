{
 "cells": [
  {
   "cell_type": "markdown",
   "metadata": {
    "slideshow": {
     "slide_type": "slide"
    }
   },
   "source": [
    "# CDS services in Jupyter notebooks\n",
    "<span style='color:blue'> Welcome to a Jupyter notebook demonstrating how to access some CDS services with Python. Here you will learn how to: </span>\n",
    "- open a **Aladin Lite** widget, \n",
    "- search for data with **Simbad**,\n",
    "- find and download a catalogue from **Vizier**, \n",
    "- overlay the sources of this catalogue on the sky view in the Aladin Lite widget,\n",
    "\n",
    "Find more tutorials @ https://github.com/cds-astro\n"
   ]
  },
  {
   "cell_type": "markdown",
   "metadata": {
    "slideshow": {
     "slide_type": "slide"
    }
   },
   "source": [
    "## Aladin Lite & ipyaladin\n",
    "\n",
    "**Aladin Lite** is a lightweight sky atlas running in the browser. It allows to: \n",
    "\n",
    " - visualize sky maps\n",
    "     - 900+ available, [`permanently updated`](https://aladin.u-strasbg.fr/hips/list)\n",
    " - overlay tabular data and footprints  \n",
    " \n",
    " \n",
    " **ipyaladin** is a widget developed at CDS, allowing for easy embedding of Aladin Lite into an IPython notebook."
   ]
  },
  {
   "cell_type": "code",
   "execution_count": 1,
   "metadata": {
    "slideshow": {
     "slide_type": "slide"
    }
   },
   "outputs": [],
   "source": [
    "import ipyaladin.aladin_widget as ipyal"
   ]
  },
  {
   "cell_type": "code",
   "execution_count": 2,
   "metadata": {
    "scrolled": true,
    "slideshow": {
     "slide_type": "fragment"
    }
   },
   "outputs": [
    {
     "data": {
      "application/vnd.jupyter.widget-view+json": {
       "model_id": "dd94d64c7ea34546ab651c2ca0bc0ea3",
       "version_major": 2,
       "version_minor": 0
      },
      "text/plain": [
       "Aladin(options=['allow_full_zoomout', 'coo_frame', 'fov', 'full_screen', 'log', 'overlay_survey', 'overlay_sur…"
      ]
     },
     "metadata": {},
     "output_type": "display_data"
    }
   ],
   "source": [
    "aladin = ipyal.Aladin()\n",
    "aladin"
   ]
  },
  {
   "cell_type": "code",
   "execution_count": 5,
   "metadata": {
    "slideshow": {
     "slide_type": "fragment"
    }
   },
   "outputs": [],
   "source": [
    "#Choose target, field of view, survey, coordinate frame\n",
    "aladin.target = 'Abell 1656'\n",
    "aladin.survey='P/SDSS9/color'\n",
    "aladin.coo_frame= 'J2000'\n",
    "aladin.fov=1"
   ]
  },
  {
   "cell_type": "code",
   "execution_count": 6,
   "metadata": {
    "slideshow": {
     "slide_type": "slide"
    }
   },
   "outputs": [],
   "source": [
    "#overlay_survey, \n",
    "aladin.overlay_survey= 'P/allWISE/color'\n",
    "aladin.overlay_survey_opacity = 0.5"
   ]
  },
  {
   "cell_type": "code",
   "execution_count": null,
   "metadata": {
    "slideshow": {
     "slide_type": "fragment"
    }
   },
   "outputs": [],
   "source": [
    "#export view as JPEG\n",
    "aladin.get_JPEG_thumbnail()"
   ]
  },
  {
   "cell_type": "markdown",
   "metadata": {
    "slideshow": {
     "slide_type": "slide"
    }
   },
   "source": [
    "## SIMBAD\n",
    "\n",
    "**SIMBAD** is a reference database for astronomical objects and their bibliography. \n",
    "\n",
    "- More than 12 million astronomical objects ranging from stars to galaxy clusters. \n",
    "- Record of identifier, set of coordinates, and a bibliographic reference. \n",
    "- ...and more: magnitudes, distances/redshifts/proper motions, alternative identifiers, object and morphological types, sizes (for galaxies), and hierarchical relations (e.g., cluster membership) "
   ]
  },
  {
   "cell_type": "code",
   "execution_count": 7,
   "metadata": {
    "scrolled": true,
    "slideshow": {
     "slide_type": "slide"
    }
   },
   "outputs": [
    {
     "data": {
      "text/html": [
       "<i>Table length=341</i>\n",
       "<table id=\"table140682343869120\" class=\"table-striped table-bordered table-condensed\">\n",
       "<thead><tr><th>MAIN_ID</th><th>RA</th><th>DEC</th><th>RA_PREC</th><th>DEC_PREC</th><th>COO_ERR_MAJA</th><th>COO_ERR_MINA</th><th>COO_ERR_ANGLE</th><th>COO_QUAL</th><th>COO_WAVELENGTH</th><th>COO_BIBCODE</th></tr></thead>\n",
       "<thead><tr><th></th><th>&quot;h:m:s&quot;</th><th>&quot;d:m:s&quot;</th><th></th><th></th><th>mas</th><th>mas</th><th>deg</th><th></th><th></th><th></th></tr></thead>\n",
       "<thead><tr><th>object</th><th>str13</th><th>str13</th><th>int16</th><th>int16</th><th>float32</th><th>float32</th><th>int16</th><th>str1</th><th>str1</th><th>object</th></tr></thead>\n",
       "<tr><td>ACO  1656</td><td>12 59 48.7</td><td>+27 58 50</td><td>5</td><td>5</td><td>--</td><td>--</td><td>0</td><td>D</td><td></td><td>2001ApJ...554L.129M</td></tr>\n",
       "<tr><td>CAIRNS J125948.56+275857.8</td><td>12 59 48.577</td><td>+27 58 57.70</td><td>7</td><td>7</td><td>38.000</td><td>52.000</td><td>90</td><td>C</td><td>O</td><td>2012ApJS..203...21A</td></tr>\n",
       "<tr><td>[CTM2010] 180960</td><td>12 59 47.9993</td><td>+27 58 40.418</td><td>8</td><td>8</td><td>100.000</td><td>100.000</td><td>90</td><td>C</td><td>O</td><td>2011ApJ...737...86C</td></tr>\n",
       "<tr><td>GMP 3141</td><td>12 59 49.08</td><td>+27 58 34.2</td><td>6</td><td>6</td><td>--</td><td>--</td><td>0</td><td>C</td><td>O</td><td>2011MNRAS.414.3052D</td></tr>\n",
       "<tr><td>IC 3998</td><td>12 59 46.813</td><td>+27 58 25.27</td><td>7</td><td>7</td><td>--</td><td>--</td><td>0</td><td>C</td><td>I</td><td>2006AJ....131.1163S</td></tr>\n",
       "<tr><td>[CTM2010] 181622</td><td>12 59 51.0095</td><td>+27 58 22.812</td><td>8</td><td>8</td><td>100.000</td><td>100.000</td><td>90</td><td>C</td><td>O</td><td>2011ApJ...737...86C</td></tr>\n",
       "<tr><td>GMP 3110</td><td>12 59 51.9021</td><td>+27 59 05.712</td><td>14</td><td>14</td><td>2.221</td><td>1.560</td><td>90</td><td>C</td><td>O</td><td>2018yCat.1345....0G</td></tr>\n",
       "<tr><td>[CG99] SA1656-6</td><td>12 59 52.0</td><td>+27 59 05</td><td>5</td><td>5</td><td>--</td><td>--</td><td>0</td><td>D</td><td></td><td>1999AJ....117...75C</td></tr>\n",
       "<tr><td>LEDA  126781</td><td>12 59 46.933</td><td>+27 59 30.88</td><td>7</td><td>7</td><td>26.000</td><td>24.000</td><td>90</td><td>C</td><td>O</td><td>2012ApJS..203...21A</td></tr>\n",
       "<tr><td>...</td><td>...</td><td>...</td><td>...</td><td>...</td><td>...</td><td>...</td><td>...</td><td>...</td><td>...</td><td>...</td></tr>\n",
       "<tr><td>[UBM96]  6L</td><td>12 59 50.5</td><td>+27 53 55</td><td>5</td><td>5</td><td>5000.000</td><td>5000.000</td><td>90</td><td>D</td><td></td><td>1996AJ....112.2517U</td></tr>\n",
       "<tr><td>Weis 63425</td><td>13 00 11</td><td>+27 58.5</td><td>4</td><td>4</td><td>--</td><td>--</td><td>0</td><td>E</td><td></td><td></td></tr>\n",
       "<tr><td>[EDG2007] 323</td><td>12 59 26.2958</td><td>+27 58 43.529</td><td>14</td><td>14</td><td>0.157</td><td>0.089</td><td>90</td><td>A</td><td>O</td><td>2018yCat.1345....0G</td></tr>\n",
       "<tr><td>2MASX J13001036+2757332</td><td>13 00 10.360</td><td>+27 57 33.27</td><td>7</td><td>7</td><td>--</td><td>--</td><td>0</td><td>C</td><td>I</td><td>2006AJ....131.1163S</td></tr>\n",
       "<tr><td>[HVH2010] Comai J130005.680+275535.32</td><td>13 00 05.68</td><td>+27 55 35.3</td><td>6</td><td>6</td><td>--</td><td>--</td><td>0</td><td>D</td><td></td><td>2010ApJS..191..143H</td></tr>\n",
       "<tr><td>LEDA  126770</td><td>13 00 05.681</td><td>+27 55 35.27</td><td>7</td><td>7</td><td>41.000</td><td>56.000</td><td>90</td><td>C</td><td>O</td><td>2015ApJS..219...12A</td></tr>\n",
       "<tr><td>[EDG2007]  18</td><td>13 00 10.7433</td><td>+27 57 51.718</td><td>14</td><td>14</td><td>0.016</td><td>0.010</td><td>90</td><td>A</td><td>O</td><td>2018yCat.1345....0G</td></tr>\n",
       "<tr><td>[EDG2007] 459</td><td>12 59 26.32</td><td>+27 59 18.9</td><td>6</td><td>6</td><td>400.000</td><td>400.000</td><td>90</td><td>C</td><td>O</td><td>2007ApJS..169..225E</td></tr>\n",
       "<tr><td>2MASX J12592657+2759548</td><td>12 59 26.5984</td><td>+27 59 54.528</td><td>14</td><td>14</td><td>5.795</td><td>3.039</td><td>90</td><td>C</td><td>O</td><td>2018yCat.1345....0G</td></tr>\n",
       "<tr><td>NGC  4875</td><td>12 59 37.9094</td><td>+27 54 26.397</td><td>14</td><td>14</td><td>1.718</td><td>1.027</td><td>90</td><td>C</td><td>O</td><td>2018yCat.1345....0G</td></tr>\n",
       "</table>"
      ],
      "text/plain": [
       "<Table length=341>\n",
       "               MAIN_ID                      RA      ...     COO_BIBCODE    \n",
       "                                         \"h:m:s\"    ...                    \n",
       "                object                    str13     ...        object      \n",
       "------------------------------------- ------------- ... -------------------\n",
       "                            ACO  1656    12 59 48.7 ... 2001ApJ...554L.129M\n",
       "           CAIRNS J125948.56+275857.8  12 59 48.577 ... 2012ApJS..203...21A\n",
       "                     [CTM2010] 180960 12 59 47.9993 ... 2011ApJ...737...86C\n",
       "                             GMP 3141   12 59 49.08 ... 2011MNRAS.414.3052D\n",
       "                              IC 3998  12 59 46.813 ... 2006AJ....131.1163S\n",
       "                     [CTM2010] 181622 12 59 51.0095 ... 2011ApJ...737...86C\n",
       "                             GMP 3110 12 59 51.9021 ... 2018yCat.1345....0G\n",
       "                      [CG99] SA1656-6    12 59 52.0 ... 1999AJ....117...75C\n",
       "                         LEDA  126781  12 59 46.933 ... 2012ApJS..203...21A\n",
       "                                  ...           ... ...                 ...\n",
       "                          [UBM96]  6L    12 59 50.5 ... 1996AJ....112.2517U\n",
       "                           Weis 63425      13 00 11 ...                    \n",
       "                        [EDG2007] 323 12 59 26.2958 ... 2018yCat.1345....0G\n",
       "              2MASX J13001036+2757332  13 00 10.360 ... 2006AJ....131.1163S\n",
       "[HVH2010] Comai J130005.680+275535.32   13 00 05.68 ... 2010ApJS..191..143H\n",
       "                         LEDA  126770  13 00 05.681 ... 2015ApJS..219...12A\n",
       "                        [EDG2007]  18 13 00 10.7433 ... 2018yCat.1345....0G\n",
       "                        [EDG2007] 459   12 59 26.32 ... 2007ApJS..169..225E\n",
       "              2MASX J12592657+2759548 12 59 26.5984 ... 2018yCat.1345....0G\n",
       "                            NGC  4875 12 59 37.9094 ... 2018yCat.1345....0G"
      ]
     },
     "execution_count": 7,
     "metadata": {},
     "output_type": "execute_result"
    }
   ],
   "source": [
    "from astroquery.simbad import Simbad\n",
    "import astropy.units as u\n",
    "\n",
    "table_simbad = Simbad.query_region(\"Abell 1656\", radius = '5m')\n",
    "table_simbad"
   ]
  },
  {
   "cell_type": "code",
   "execution_count": 8,
   "metadata": {
    "slideshow": {
     "slide_type": "fragment"
    }
   },
   "outputs": [],
   "source": [
    "# display table on Aladin\n",
    "aladin.add_table(table_simbad)"
   ]
  },
  {
   "cell_type": "markdown",
   "metadata": {
    "slideshow": {
     "slide_type": "slide"
    }
   },
   "source": [
    "## VizieR\n",
    "\n",
    "[`VizieR`](https://vizier.u-strasbg.fr/viz-bin/VizieR) is an astronomical catalog service provided by CDS:\n",
    "\n",
    "It is a database of tabular data from published papers and big surveys. \n",
    "\n",
    "It also provides associated data like e.g images, spectra, cubes or light curves.\n",
    "\n",
    "Both the tabular data and the associated data can be searched and found with Python scripts:\n",
    "\n",
    "1. using the `Vizier` subpackage from the `astroquery` package \n",
    "2. using `PyVO` and the Table Access Protocol (come back tomorrow for a demo!)"
   ]
  },
  {
   "cell_type": "code",
   "execution_count": 10,
   "metadata": {
    "scrolled": true,
    "slideshow": {
     "slide_type": "slide"
    }
   },
   "outputs": [
    {
     "name": "stdout",
     "output_type": "stream",
     "text": [
      "II/259 :  The SDSS Photometric Catalog, Release 3 (Abazajian+ 2005)\n",
      "II/267 :  The SDSS Photometric Catalog, Release 4 (Adelman-McCarthy+, 2006)\n",
      "II/276 :  The SDSS Photometric Catalog, Release 5 (Adelman-McCarthy+, 2007)\n",
      "II/282 :  The SDSS Photometric Catalog, Release 6 (Adelman-McCarthy+, 2007)\n",
      "II/294 :  The SDSS Photometric Catalog, Release 7 (Adelman-McCarthy+, 2009)\n",
      "II/306 :  The SDSS Photometric Catalog, Release 8 (Adelman-McCarthy+, 2011)\n",
      "V/139 :  The SDSS Photometric Catalog, Release 9 (Adelman-McCarthy+, 2012)\n",
      "V/147 :  The SDSS Photometric Catalogue, Release 12 (Alam+, 2015)\n",
      "J/ApJ/738/162 :  SN Ia candidates from the SDSS-II SN Survey (Sako+, 2011)\n",
      "J/ApJ/763/88 :  SDSS-II supernovae Ia cosmological analysis (Campbell+, 2013)\n",
      "J/ApJ/836/115 :  Double-component model fitting of elliptical gal. (Oh+, 2017)\n",
      "J/ApJ/862/12 :  Photometric Redshift Catalog (SCUSS, SDSS, WISE) (Gao+, 2018)\n",
      "J/ApJ/882/106 :  DB white dwarfs with SDSS and Gaia data (Genest-Beaulieu+, 2019)\n",
      "J/ApJS/180/67 :  Photometric selection of quasars from SDSS. II. (Richards+, 2009)\n",
      "J/A+A/497/619 :  New ultra-cool dwarfs from SDSS and 2MASS (Zhang+, 2009)\n",
      "J/A+A/552/A124 :  SNLS and SDSS SN surveys photometric calibration (Betoule+, 2013)\n",
      "J/A+A/578/A79 :  Galaxy clusters in SDSS Stripe 82 (Durret+, 2015)\n",
      "J/AJ/130/2439 :  Redshift estimates in the SDSS DR2 (Suchkov+, 2005)\n",
      "J/AJ/141/105 :  NIR-matched quasar catalog (Peth+, 2011)\n",
      "J/AJ/144/17 :  SDSS and CSP ugri photometry of 9 type Ia supernova (Mosher+, 2012)\n",
      "J/MNRAS/375/68 :  MegaZ-LRG catalogue (Collister+, 2007)\n",
      "J/MNRAS/384/1178 :  2MASS, SDSS and BVRI photometry for 825 stars (Bilir+, 2008)\n",
      "J/MNRAS/406/1583 :  Quasar from SDSS and UKIDSS (Wu+, 2010)\n",
      "J/MNRAS/417/2230 :  BVRI+SDSS+2MASS and WISE photometry of 289 stars (Bilir+, 2011)\n",
      "J/MNRAS/419/80 :  Photometric Classification Catalogue of SDSS DR7 (Abraham+, 2012)\n",
      "J/MNRAS/446/3943 :  galaxies 2D phot. decompositions in SDSS-DR7 (Meert+, 2015)\n",
      "J/MNRAS/455/2440 :  Gal. 2D phot. decompositions in r, g & i bands (Meert+, 2016)\n",
      "J/AZh/92/406 :  NZ Boo V light curves (Khruzina+, 2015)\n",
      "J/other/NewA/54.30 :  NLS1s 2MASS and WISE photometry (Chen+, 2017)\n"
     ]
    }
   ],
   "source": [
    "from astroquery.vizier import Vizier\n",
    "\n",
    "catalog_list_sdss = Vizier.find_catalogs('SDSS Photometric Catalog')\n",
    "\n",
    "for k, v in catalog_list_sdss.items():\n",
    "    print(k, ': ', v.description)"
   ]
  },
  {
   "cell_type": "code",
   "execution_count": null,
   "metadata": {
    "slideshow": {
     "slide_type": "slide"
    }
   },
   "outputs": [],
   "source": [
    "# directly get the full catalog\n",
    "cat_sdss = Vizier.get_catalogs('V/147') \n",
    "cat_sdss\n",
    "\n",
    "# !! by default VizieR will only return 50 entries. \n",
    "# To get all sources, set the ROW_LIMIT = -1"
   ]
  },
  {
   "cell_type": "code",
   "execution_count": 11,
   "metadata": {
    "slideshow": {
     "slide_type": "fragment"
    }
   },
   "outputs": [
    {
     "data": {
      "text/plain": [
       "TableList with 1 tables:\n",
       "\t'0:V/147/sdss12' with 23 column(s) and 50 row(s) "
      ]
     },
     "execution_count": 11,
     "metadata": {},
     "output_type": "execute_result"
    }
   ],
   "source": [
    "# check what data are available \n",
    "# by querying only a small subsample\n",
    "# and customize your Vizier query\n",
    "\n",
    "test_sdss = Vizier.query_region(\"A1656\", radius='2m', catalog='V/147')\n",
    "test_sdss"
   ]
  },
  {
   "cell_type": "code",
   "execution_count": 12,
   "metadata": {
    "scrolled": true,
    "slideshow": {
     "slide_type": "fragment"
    }
   },
   "outputs": [
    {
     "data": {
      "text/html": [
       "<i>Table length=50</i>\n",
       "<table id=\"table140682598278000\" class=\"table-striped table-bordered table-condensed\">\n",
       "<thead><tr><th>RA_ICRS</th><th>DE_ICRS</th><th>mode</th><th>q_mode</th><th>class</th><th>SDSS12</th><th>m_SDSS12</th><th>ObsDate</th><th>Q</th><th>umag</th><th>e_umag</th><th>gmag</th><th>e_gmag</th><th>rmag</th><th>e_rmag</th><th>imag</th><th>e_imag</th><th>zmag</th><th>e_zmag</th><th>zsp</th><th>zph</th><th>e_zph</th><th>__zph_</th></tr></thead>\n",
       "<thead><tr><th>deg</th><th>deg</th><th></th><th></th><th></th><th></th><th></th><th>yr</th><th></th><th>mag</th><th>mag</th><th>mag</th><th>mag</th><th>mag</th><th>mag</th><th>mag</th><th>mag</th><th>mag</th><th>mag</th><th></th><th></th><th></th><th></th></tr></thead>\n",
       "<thead><tr><th>float64</th><th>float64</th><th>uint8</th><th>str1</th><th>uint8</th><th>str19</th><th>str1</th><th>float64</th><th>uint8</th><th>float32</th><th>float32</th><th>float32</th><th>float32</th><th>float32</th><th>float32</th><th>float32</th><th>float32</th><th>float32</th><th>float32</th><th>float64</th><th>float64</th><th>float64</th><th>float32</th></tr></thead>\n",
       "<tr><td>194.966632</td><td>27.961213</td><td>1</td><td>+</td><td>6</td><td>J125951.99+275740.3</td><td>*</td><td>2005.0498</td><td>3</td><td>21.560</td><td>0.113</td><td>18.944</td><td>0.010</td><td>17.658</td><td>0.006</td><td>16.550</td><td>0.006</td><td>15.971</td><td>0.007</td><td>--</td><td>--</td><td>--</td><td>--</td></tr>\n",
       "<tr><td>194.966645</td><td>27.961826</td><td>1</td><td>+</td><td>6</td><td>J125951.99+275742.5</td><td>*</td><td>2005.0498</td><td>3</td><td>20.326</td><td>0.046</td><td>18.358</td><td>0.007</td><td>17.567</td><td>0.006</td><td>17.322</td><td>0.007</td><td>17.172</td><td>0.012</td><td>--</td><td>--</td><td>--</td><td>--</td></tr>\n",
       "<tr><td>194.953429</td><td>27.948974</td><td>1</td><td></td><td>6</td><td>J125948.82+275656.3</td><td></td><td>2005.0498</td><td>3</td><td>22.180</td><td>0.193</td><td>25.767</td><td>0.500</td><td>23.892</td><td>0.443</td><td>23.621</td><td>0.564</td><td>23.160</td><td>0.624</td><td>--</td><td>--</td><td>--</td><td>--</td></tr>\n",
       "<tr><td>194.965904</td><td>27.957310</td><td>1</td><td>+</td><td>3</td><td>J125951.81+275726.3</td><td></td><td>2005.0498</td><td>3</td><td>20.409</td><td>0.298</td><td>19.983</td><td>0.097</td><td>19.165</td><td>0.070</td><td>18.877</td><td>0.095</td><td>19.282</td><td>0.487</td><td>--</td><td>0.2974</td><td>0.0827</td><td>0.1729</td></tr>\n",
       "<tr><td>194.949557</td><td>27.948739</td><td>1</td><td></td><td>3</td><td>J125947.89+275655.4</td><td></td><td>2005.0498</td><td>3</td><td>20.786</td><td>0.474</td><td>20.182</td><td>0.131</td><td>27.338</td><td>1.325</td><td>18.616</td><td>0.084</td><td>18.432</td><td>0.255</td><td>--</td><td>-9999.0000</td><td>-9999.0000</td><td>0.5210</td></tr>\n",
       "<tr><td>194.951733</td><td>27.951025</td><td>1</td><td>+</td><td>3</td><td>J125948.41+275703.6</td><td></td><td>2005.0498</td><td>3</td><td>23.210</td><td>2.230</td><td>20.291</td><td>0.080</td><td>19.446</td><td>0.055</td><td>19.167</td><td>0.076</td><td>19.703</td><td>0.436</td><td>--</td><td>0.1413</td><td>0.0643</td><td>0.1371</td></tr>\n",
       "<tr><td>194.954080</td><td>27.952963</td><td>1</td><td>+</td><td>3</td><td>J125948.97+275710.6</td><td>*</td><td>2005.0498</td><td>3</td><td>21.360</td><td>0.322</td><td>20.730</td><td>0.088</td><td>19.161</td><td>0.033</td><td>18.679</td><td>0.036</td><td>18.265</td><td>0.087</td><td>--</td><td>0.3508</td><td>0.0497</td><td>0.3489</td></tr>\n",
       "<tr><td>194.954309</td><td>27.955073</td><td>1</td><td>+</td><td>3</td><td>J125949.03+275718.2</td><td></td><td>2005.0498</td><td>3</td><td>19.919</td><td>0.185</td><td>18.911</td><td>0.038</td><td>17.894</td><td>0.023</td><td>17.584</td><td>0.029</td><td>17.477</td><td>0.093</td><td>--</td><td>0.2484</td><td>0.0456</td><td>0.2357</td></tr>\n",
       "<tr><td>194.955667</td><td>27.953073</td><td>1</td><td>+</td><td>6</td><td>J125949.36+275711.0</td><td></td><td>2005.0498</td><td>3</td><td>24.783</td><td>0.749</td><td>25.548</td><td>0.508</td><td>23.063</td><td>0.222</td><td>23.758</td><td>0.536</td><td>23.012</td><td>0.584</td><td>--</td><td>--</td><td>--</td><td>--</td></tr>\n",
       "<tr><td>...</td><td>...</td><td>...</td><td>...</td><td>...</td><td>...</td><td>...</td><td>...</td><td>...</td><td>...</td><td>...</td><td>...</td><td>...</td><td>...</td><td>...</td><td>...</td><td>...</td><td>...</td><td>...</td><td>...</td><td>...</td><td>...</td><td>...</td></tr>\n",
       "<tr><td>194.940958</td><td>27.969505</td><td>1</td><td></td><td>3</td><td>J125945.82+275810.2</td><td></td><td>2005.0498</td><td>3</td><td>22.585</td><td>0.277</td><td>22.541</td><td>0.129</td><td>21.594</td><td>0.076</td><td>21.187</td><td>0.086</td><td>21.155</td><td>0.289</td><td>--</td><td>0.5333</td><td>0.0765</td><td>0.4886</td></tr>\n",
       "<tr><td>194.941756</td><td>27.974579</td><td>1</td><td></td><td>6</td><td>J125946.02+275828.4</td><td></td><td>2005.0498</td><td>3</td><td>24.033</td><td>0.690</td><td>23.328</td><td>0.244</td><td>22.908</td><td>0.219</td><td>22.426</td><td>0.231</td><td>22.671</td><td>0.624</td><td>--</td><td>--</td><td>--</td><td>--</td></tr>\n",
       "<tr><td>194.957345</td><td>27.974555</td><td>1</td><td>+</td><td>3</td><td>J125949.76+275828.3</td><td></td><td>2005.0498</td><td>3</td><td>20.039</td><td>0.377</td><td>19.485</td><td>0.108</td><td>18.849</td><td>0.092</td><td>18.853</td><td>0.164</td><td>19.162</td><td>0.782</td><td>--</td><td>0.1707</td><td>0.0441</td><td>0.1499</td></tr>\n",
       "<tr><td>194.959137</td><td>27.973580</td><td>1</td><td>+</td><td>3</td><td>J125950.19+275824.8</td><td></td><td>2005.0498</td><td>3</td><td>19.501</td><td>0.342</td><td>19.494</td><td>0.161</td><td>18.486</td><td>0.098</td><td>18.299</td><td>0.148</td><td>19.134</td><td>1.146</td><td>--</td><td>0.5102</td><td>0.0637</td><td>0.1213</td></tr>\n",
       "<tr><td>194.959957</td><td>27.971978</td><td>1</td><td></td><td>3</td><td>J125950.38+275819.1</td><td></td><td>2005.0498</td><td>3</td><td>23.477</td><td>0.548</td><td>23.973</td><td>0.387</td><td>22.999</td><td>0.240</td><td>21.863</td><td>0.148</td><td>21.315</td><td>0.326</td><td>--</td><td>0.6379</td><td>0.0684</td><td>0.6293</td></tr>\n",
       "<tr><td>194.945554</td><td>27.991912</td><td>1</td><td>+</td><td>3</td><td>J125946.93+275930.8</td><td></td><td>2004.9733</td><td>3</td><td>20.028</td><td>0.092</td><td>18.261</td><td>0.009</td><td>17.571</td><td>0.008</td><td>17.239</td><td>0.009</td><td>17.044</td><td>0.026</td><td>0.02806</td><td>0.0668</td><td>0.0334</td><td>0.0646</td></tr>\n",
       "<tr><td>194.950217</td><td>27.994430</td><td>1</td><td>+</td><td>6</td><td>J125948.05+275939.9</td><td>*</td><td>2004.9733</td><td>3</td><td>21.980</td><td>0.182</td><td>21.757</td><td>0.056</td><td>21.798</td><td>0.083</td><td>21.633</td><td>0.121</td><td>21.616</td><td>0.361</td><td>--</td><td>--</td><td>--</td><td>--</td></tr>\n",
       "<tr><td>194.951032</td><td>27.994042</td><td>1</td><td>+</td><td>3</td><td>J125948.24+275938.5</td><td></td><td>2004.9733</td><td>3</td><td>24.602</td><td>1.140</td><td>24.355</td><td>0.570</td><td>22.037</td><td>0.131</td><td>21.725</td><td>0.169</td><td>22.454</td><td>0.755</td><td>--</td><td>0.2384</td><td>0.1133</td><td>0.3679</td></tr>\n",
       "<tr><td>194.967450</td><td>27.996206</td><td>1</td><td>+</td><td>3</td><td>J125952.18+275946.3</td><td></td><td>2004.9733</td><td>3</td><td>21.642</td><td>0.234</td><td>21.767</td><td>0.106</td><td>21.135</td><td>0.098</td><td>20.761</td><td>0.114</td><td>20.483</td><td>0.314</td><td>--</td><td>0.5448</td><td>0.1271</td><td>0.5010</td></tr>\n",
       "<tr><td>194.963874</td><td>28.005916</td><td>1</td><td>+</td><td>3</td><td>J125951.32+280021.2</td><td></td><td>2004.9733</td><td>3</td><td>22.817</td><td>0.401</td><td>22.235</td><td>0.096</td><td>21.036</td><td>0.052</td><td>20.503</td><td>0.054</td><td>19.871</td><td>0.104</td><td>--</td><td>0.4687</td><td>0.0939</td><td>0.4630</td></tr>\n",
       "</table>"
      ],
      "text/plain": [
       "<Table length=50>\n",
       " RA_ICRS    DE_ICRS    mode q_mode ...   zsp       zph       e_zph     __zph_\n",
       "   deg        deg                  ...                                       \n",
       " float64    float64   uint8  str1  ... float64   float64    float64   float32\n",
       "---------- ---------- ----- ------ ... -------- ---------- ---------- -------\n",
       "194.966632  27.961213     1      + ...       --         --         --      --\n",
       "194.966645  27.961826     1      + ...       --         --         --      --\n",
       "194.953429  27.948974     1        ...       --         --         --      --\n",
       "194.965904  27.957310     1      + ...       --     0.2974     0.0827  0.1729\n",
       "194.949557  27.948739     1        ...       -- -9999.0000 -9999.0000  0.5210\n",
       "194.951733  27.951025     1      + ...       --     0.1413     0.0643  0.1371\n",
       "194.954080  27.952963     1      + ...       --     0.3508     0.0497  0.3489\n",
       "194.954309  27.955073     1      + ...       --     0.2484     0.0456  0.2357\n",
       "194.955667  27.953073     1      + ...       --         --         --      --\n",
       "       ...        ...   ...    ... ...      ...        ...        ...     ...\n",
       "194.940958  27.969505     1        ...       --     0.5333     0.0765  0.4886\n",
       "194.941756  27.974579     1        ...       --         --         --      --\n",
       "194.957345  27.974555     1      + ...       --     0.1707     0.0441  0.1499\n",
       "194.959137  27.973580     1      + ...       --     0.5102     0.0637  0.1213\n",
       "194.959957  27.971978     1        ...       --     0.6379     0.0684  0.6293\n",
       "194.945554  27.991912     1      + ...  0.02806     0.0668     0.0334  0.0646\n",
       "194.950217  27.994430     1      + ...       --         --         --      --\n",
       "194.951032  27.994042     1      + ...       --     0.2384     0.1133  0.3679\n",
       "194.967450  27.996206     1      + ...       --     0.5448     0.1271  0.5010\n",
       "194.963874  28.005916     1      + ...       --     0.4687     0.0939  0.4630"
      ]
     },
     "execution_count": 12,
     "metadata": {},
     "output_type": "execute_result"
    }
   ],
   "source": [
    "test_sdss_cat = test_sdss[0]\n",
    "test_sdss_cat"
   ]
  },
  {
   "cell_type": "code",
   "execution_count": 13,
   "metadata": {
    "slideshow": {
     "slide_type": "slide"
    }
   },
   "outputs": [],
   "source": [
    "# now customise your Vizier query\n",
    "\n",
    "myViz = Vizier(columns=['RA_ICRS', 'DE_ICRS', 'rmag', 'zsp'],\n",
    "            column_filters={'class': '==3'})\n",
    "\n",
    "myViz.ROW_LIMIT = -1"
   ]
  },
  {
   "cell_type": "code",
   "execution_count": 14,
   "metadata": {
    "slideshow": {
     "slide_type": "fragment"
    }
   },
   "outputs": [
    {
     "data": {
      "text/plain": [
       "TableList with 1 tables:\n",
       "\t'0:V/147/sdss12' with 4 column(s) and 1479 row(s) "
      ]
     },
     "execution_count": 14,
     "metadata": {},
     "output_type": "execute_result"
    }
   ],
   "source": [
    "gal_sdss = myViz.query_region(\"A1656\", radius='10m', catalog='V/147')\n",
    "gal_sdss"
   ]
  },
  {
   "cell_type": "code",
   "execution_count": 15,
   "metadata": {
    "slideshow": {
     "slide_type": "slide"
    }
   },
   "outputs": [
    {
     "data": {
      "application/vnd.jupyter.widget-view+json": {
       "model_id": "0eda34cf24ca481d9db39ccec311a325",
       "version_major": 2,
       "version_minor": 0
      },
      "text/plain": [
       "Aladin(fov=1.0, options=['allow_full_zoomout', 'coo_frame', 'fov', 'full_screen', 'log', 'overlay_survey', 'ov…"
      ]
     },
     "metadata": {},
     "output_type": "display_data"
    }
   ],
   "source": [
    "aladin = ipyal.Aladin(target='Abell 1656', fov=1, survey='P/SDSS9/color')\n",
    "aladin\n"
   ]
  },
  {
   "cell_type": "code",
   "execution_count": 16,
   "metadata": {
    "slideshow": {
     "slide_type": "fragment"
    }
   },
   "outputs": [],
   "source": [
    "res_gal_sdss = gal_sdss[0]\n",
    "aladin.add_table(res_gal_sdss)"
   ]
  },
  {
   "cell_type": "code",
   "execution_count": null,
   "metadata": {
    "slideshow": {
     "slide_type": "slide"
    }
   },
   "outputs": [],
   "source": [
    "# you can further refine your selection, \n",
    "# eg. select a range of magnitude, galaxies with zspec only\n",
    "\n",
    "mysel_gal_sdss = res_gal_sdss[(res_gal_sdss['rmag']>11.5) & (res_gal_sdss['rmag']<17.) & (res_gal_sdss['zsp']>0.)]\n",
    "mysel_gal_sdss"
   ]
  },
  {
   "cell_type": "code",
   "execution_count": null,
   "metadata": {
    "slideshow": {
     "slide_type": "fragment"
    }
   },
   "outputs": [],
   "source": [
    "aladin.add_table(mysel_gal_sdss)"
   ]
  },
  {
   "cell_type": "markdown",
   "metadata": {
    "slideshow": {
     "slide_type": "slide"
    }
   },
   "source": [
    "## Come back tomorrow for more demos using:\n",
    "\n",
    "- ### PyVO\n",
    "- ### XMatch\n",
    "- ### MOCpy"
   ]
  }
 ],
 "metadata": {
  "celltoolbar": "Slideshow",
  "kernelspec": {
   "display_name": "Python 3",
   "language": "python",
   "name": "python3"
  },
  "language_info": {
   "codemirror_mode": {
    "name": "ipython",
    "version": 3
   },
   "file_extension": ".py",
   "mimetype": "text/x-python",
   "name": "python",
   "nbconvert_exporter": "python",
   "pygments_lexer": "ipython3",
   "version": "3.8.10"
  }
 },
 "nbformat": 4,
 "nbformat_minor": 2
}
